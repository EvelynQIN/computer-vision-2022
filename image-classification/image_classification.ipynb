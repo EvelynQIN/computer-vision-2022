{
  "cells": [
    {
      "cell_type": "markdown",
      "metadata": {
        "id": "nm9IjKVRN4pR"
      },
      "source": [
        "# Image Classification with PyTorch"
      ]
    },
    {
      "cell_type": "markdown",
      "metadata": {
        "id": "wVUc576YN4pW"
      },
      "source": [
        "## Data loading\n"
      ]
    },
    {
      "cell_type": "code",
      "execution_count": null,
      "metadata": {
        "id": "3_NsauHoN4pX"
      },
      "outputs": [],
      "source": [
        "import numpy as np\n",
        "import matplotlib.pyplot as plt\n",
        "\n",
        "import torch\n",
        "import torch.nn as nn\n",
        "import torch.nn.functional as F\n",
        "import torch.optim as optim\n",
        "from torch.utils.data import DataLoader\n",
        "import torchvision\n",
        "from torchvision import datasets, transforms"
      ]
    },
    {
      "cell_type": "code",
      "execution_count": null,
      "metadata": {
        "id": "zFJwiHdaN4pZ"
      },
      "outputs": [],
      "source": [
        "# torchvision contains convinience functions for popular datasets\n",
        "ds_train = datasets.MNIST('data', train=True, download=True)"
      ]
    },
    {
      "cell_type": "markdown",
      "metadata": {
        "id": "sdLNaRftN4pZ"
      },
      "source": [
        "Each sample is a 28x28 image"
      ]
    },
    {
      "cell_type": "code",
      "execution_count": null,
      "metadata": {
        "colab": {
          "base_uri": "https://localhost:8080/",
          "height": 155
        },
        "id": "_aGQkGXSN4pZ",
        "outputId": "163e6d2b-8461-4da9-88a5-d7ed8491cde5"
      },
      "outputs": [
        {
          "output_type": "stream",
          "name": "stdout",
          "text": [
            "(<PIL.Image.Image image mode=L size=28x28 at 0x7F7AFA7E2310>, 5)\n"
          ]
        },
        {
          "output_type": "execute_result",
          "data": {
            "text/plain": [
              "<PIL.Image.Image image mode=L size=120x120 at 0x7F7AFA7E26D0>"
            ],
            "image/png": "[encoded data removed]"
          },
          "metadata": {},
          "execution_count": 7
        }
      ],
      "source": [
        "# if we index this dataset, we get a single data point: a PIL image and an Integer\n",
        "print(ds_train[0])\n",
        "ds_train[0][0].resize((120,120))"
      ]
    },
    {
      "cell_type": "markdown",
      "metadata": {
        "id": "cd4-mCzON4pa"
      },
      "source": [
        "Let's transform the data to something that our Pytorch models will understand\n",
        "for this purpose, we can supply a transform function to the datase"
      ]
    },
    {
      "cell_type": "code",
      "execution_count": null,
      "metadata": {
        "id": "I3haU3hlN4pb"
      },
      "outputs": [],
      "source": [
        "transform = transforms.Compose([\n",
        "    transforms.ToTensor(),\n",
        "])\n",
        "ds_train = datasets.MNIST('data', train=True, download=True, transform=transform)"
      ]
    },
    {
      "cell_type": "markdown",
      "metadata": {
        "id": "1Y9x4Dv8N4pc"
      },
      "source": [
        "The image is now a `torch.Tensor`"
      ]
    },
    {
      "cell_type": "code",
      "execution_count": null,
      "metadata": {
        "colab": {
          "base_uri": "https://localhost:8080/"
        },
        "id": "JCiAEm1CN4pc",
        "outputId": "c10629ca-684c-4766-d743-af5b155d97cc"
      },
      "outputs": [
        {
          "output_type": "execute_result",
          "data": {
            "text/plain": [
              "torch.Tensor"
            ]
          },
          "metadata": {},
          "execution_count": 9
        }
      ],
      "source": [
        "type(ds_train[0][0])"
      ]
    },
    {
      "cell_type": "markdown",
      "metadata": {
        "id": "OojjZ0ejN4pd"
      },
      "source": [
        "The normalization is something you learned about in the lecture. Normalizing with $\\mu=0, \\sigma=1$ corresponds to no normalization. Let's compute the proper normalization constants!"
      ]
    },
    {
      "cell_type": "code",
      "execution_count": null,
      "metadata": {
        "id": "wzhAO0lkN4pd"
      },
      "outputs": [],
      "source": [
        "# lets get only the images \n",
        "ims_train = ds_train.data\n",
        "ims_train = ims_train.float() / 255. # scale it to [0, 1]"
      ]
    },
    {
      "cell_type": "code",
      "execution_count": null,
      "metadata": {
        "id": "PMD6xBLJN4pe"
      },
      "outputs": [],
      "source": [
        "#########################################################################\n",
        "# TODO: calculate the mean and std of MNIST images\n",
        "# hint: to look for operations on pytorch tensor, refer to the official PyTorch docs \n",
        "# https://pytorch.org/docs/stable/\n",
        "#########################################################################\n",
        "std, mu = torch.std_mean(ims_train)"
      ]
    },
    {
      "cell_type": "markdown",
      "metadata": {
        "id": "dSoBJGkYN4pe"
      },
      "source": [
        "We normalize the data as below."
      ]
    },
    {
      "cell_type": "code",
      "execution_count": null,
      "metadata": {
        "id": "sTWQM7P4N4pe"
      },
      "outputs": [],
      "source": [
        "transform = transforms.Compose([\n",
        "    transforms.ToTensor(),\n",
        "    transforms.Normalize(mu, std)\n",
        "])\n",
        "ds_train = datasets.MNIST('data', train=True, download=True, transform=transform)\n",
        "ds_test = datasets.MNIST('data', train=False, download=True, transform=transform)"
      ]
    },
    {
      "cell_type": "code",
      "execution_count": null,
      "metadata": {
        "colab": {
          "base_uri": "https://localhost:8080/"
        },
        "id": "X7scJzHZN4pf",
        "outputId": "10712f30-dfd9-44ac-b2f2-da0f96acfb17"
      },
      "outputs": [
        {
          "output_type": "execute_result",
          "data": {
            "text/plain": [
              "(tensor(-0.4241), tensor(2.8215))"
            ]
          },
          "metadata": {},
          "execution_count": 136
        }
      ],
      "source": [
        "ds_train[0][0].min(), ds_train[0][0].max()"
      ]
    },
    {
      "cell_type": "markdown",
      "metadata": {
        "id": "k5ZZS5bmN4pf"
      },
      "source": [
        "Next, we want to receive mini-batches, not only single data points.\n",
        "We use PyTorch's DataLoader class. Build a dataloader with a batch size of 64 and 4 workers (number of subprocess that peform the dataloading). Important: you need to shuffle the training data, not the test data.\n",
        "\n",
        "**NOTE**: if you encounter some unexpected errors in data loading, try setting `NUM_WORKERS = 0`"
      ]
    },
    {
      "cell_type": "code",
      "execution_count": null,
      "metadata": {
        "colab": {
          "base_uri": "https://localhost:8080/"
        },
        "id": "qzW0L0UiN4pf",
        "outputId": "d0a03ec1-4db9-4040-aa8d-e522e666debf"
      },
      "outputs": [
        {
          "output_type": "stream",
          "name": "stderr",
          "text": [
            "/usr/local/lib/python3.7/dist-packages/torch/utils/data/dataloader.py:566: UserWarning: This DataLoader will create 4 worker processes in total. Our suggested max number of worker in current system is 2, which is smaller than what this DataLoader is going to create. Please be aware that excessive worker creation might get DataLoader running slow or even freeze, lower the worker number to avoid potential slowness/freeze if necessary.\n",
            "  cpuset_checked))\n"
          ]
        }
      ],
      "source": [
        "BATCH_SIZE = 64\n",
        "NUM_WORKERS = 4\n",
        "#########################################################################\n",
        "# TODO: Build a dataloader for both train and test data.\n",
        "#########################################################################\n",
        "dl_train = DataLoader(\n",
        "    ds_train,\n",
        "    batch_size=BATCH_SIZE,\n",
        "    num_workers=NUM_WORKERS,\n",
        "    shuffle=True\n",
        ")\n",
        "dl_test = DataLoader(\n",
        "    ds_test,\n",
        "    batch_size=BATCH_SIZE,\n",
        "    num_workers=NUM_WORKERS,\n",
        "    shuffle=False\n",
        ")"
      ]
    },
    {
      "cell_type": "markdown",
      "metadata": {
        "id": "7nWOL-rsN4pg"
      },
      "source": [
        "## MLP in Pytorch\n",
        "\n",
        "Ok, the dataloading works. Let's build our model, PyTorch makes this very easy. We will build replicate the model from our last exercises. However, now, we add another variable called `nLayer` that indicates how many linear layers that in your network. Please adapt your code from last exercise accordingly to allow different number of layers."
      ]
    },
    {
      "cell_type": "code",
      "execution_count": null,
      "metadata": {
        "id": "Ei99lHZsN4pg"
      },
      "outputs": [],
      "source": [
        "# These are the parameters to be used\n",
        "nInput = 784\n",
        "nOutput = 10\n",
        "nLayer = 2\n",
        "nHidden = 16\n",
        "act_fn = nn.ReLU()"
      ]
    },
    {
      "cell_type": "code",
      "execution_count": null,
      "metadata": {
        "id": "OBIwusWqN4pg"
      },
      "outputs": [],
      "source": [
        "#########################################################################\n",
        "# TODO: Implement the __init__ of the MLP class. \n",
        "# insert the activation after every linear layer. Important: the number of \n",
        "# hidden layers should be variable!\n",
        "#########################################################################\n",
        "\n",
        "class MLP(nn.Module):\n",
        "    def __init__(self, nInput, nOutput, nLayer, nHidden, act_fn):\n",
        "        super(MLP, self).__init__()\n",
        "        layers = [] \n",
        "        \n",
        "        ##### implement this part #####\n",
        "        \n",
        "        # the input layer\n",
        "        layers.append(nn.Linear(nInput, nHidden))\n",
        "        layers.append(act_fn)\n",
        "\n",
        "        # the hidden layer\n",
        "        for l in range(nLayer - 1):\n",
        "            layers.append(nn.Linear(nHidden, nHidden))\n",
        "            layers.append(act_fn)\n",
        "        \n",
        "        #the output layer\n",
        "        layers.append(nn.Linear(nHidden, nOutput))\n",
        "        ###############################\n",
        "        \n",
        "        self.model = nn.Sequential(*layers)\n",
        "\n",
        "    def forward(self, x):\n",
        "        x = torch.flatten(x, 1)\n",
        "        return self.model(x)"
      ]
    },
    {
      "cell_type": "code",
      "execution_count": null,
      "metadata": {
        "scrolled": true,
        "colab": {
          "base_uri": "https://localhost:8080/"
        },
        "id": "ALT98N7IN4pg",
        "outputId": "9f0afcbc-6d38-42cc-9972-8aceb937b216"
      },
      "outputs": [
        {
          "output_type": "execute_result",
          "data": {
            "text/plain": [
              "torch.Size([1, 10])"
            ]
          },
          "metadata": {},
          "execution_count": 140
        }
      ],
      "source": [
        "# Let's test if the forward pass works\n",
        "# this should print torch.Size([1, 10])\n",
        "t = torch.randn(1,1,28,28)\n",
        "mlp = MLP(nInput, nOutput, nLayer, nHidden, act_fn)\n",
        "mlp(t).shape"
      ]
    },
    {
      "cell_type": "markdown",
      "metadata": {
        "id": "-DLBqpxoN4ph"
      },
      "source": [
        "We already implemented the test function for you"
      ]
    },
    {
      "cell_type": "code",
      "execution_count": null,
      "metadata": {
        "id": "1W1PwfVVN4ph"
      },
      "outputs": [],
      "source": [
        "def test(model, dl_test, device='cpu'):\n",
        "    model.eval()\n",
        "    test_loss = 0\n",
        "    correct = 0\n",
        "    with torch.no_grad():\n",
        "        for data, target in dl_test:\n",
        "            data, target = data.to(device), target.to(device)\n",
        "            output = model(data)\n",
        "            test_loss += F.cross_entropy(output, target, reduction='sum').item()  # sum up batch loss\n",
        "            pred = output.argmax(dim=1, keepdim=True)  # get the index of the max log-probability\n",
        "            correct += pred.eq(target.view_as(pred)).sum().item()\n",
        "\n",
        "    test_loss /= len(dl_test.dataset)\n",
        "\n",
        "    print('\\nTest set: Average loss: {:.4f}, Accuracy: {}/{} ({:.3f}%)\\n'.format(\n",
        "        test_loss, correct, len(dl_test.dataset),\n",
        "        100. * correct / len(dl_test.dataset)))"
      ]
    },
    {
      "cell_type": "markdown",
      "metadata": {
        "id": "hlpf2MypN4ph"
      },
      "source": [
        "Now you only need to implement the training and you are good to go"
      ]
    },
    {
      "cell_type": "code",
      "execution_count": null,
      "metadata": {
        "id": "V15NEYNZN4ph"
      },
      "outputs": [],
      "source": [
        "#########################################################################\n",
        "# TODO: Implement the missing part of the training function. As a loss function we want to use cross entropy\n",
        "# It can be called with F.cross_entropy().\n",
        "# Hint: Pass through the model -> Backpropagate gradients -> Take gradient step\n",
        "#########################################################################\n",
        "\n",
        "def train(model, dl_train, optimizer, epoch, log_interval=100, device='cpu'):\n",
        "    model.train()\n",
        "    correct = 0\n",
        "    for batch_idx, (data, target) in enumerate(dl_train):\n",
        "        data, target = data.to(device), target.to(device)\n",
        "        \n",
        "        # first we need to zero the gradient, otherwise PyTorch would accumulate them\n",
        "        optimizer.zero_grad()         \n",
        "        \n",
        "        ##### implement this part #####\n",
        "        output = model(data)\n",
        "        loss = F.cross_entropy(output, target)\n",
        "        loss.backward()\n",
        "        optimizer.step()\n",
        "        ###############################\n",
        "\n",
        "        # stats\n",
        "        pred = output.argmax(dim=1, keepdim=True)  # get the index of the max log-probability\n",
        "        correct += pred.eq(target.view_as(pred)).sum().item()\n",
        "\n",
        "        if batch_idx % log_interval == 0:\n",
        "            print('Train Epoch: {} [{}/{} ({:.0f}%)]\\tLoss: {:.6f}'.format(\n",
        "                epoch, batch_idx * len(data), len(dl_train.dataset),\n",
        "                100. * batch_idx / len(dl_train), loss.item()))\n",
        "\n",
        "    print('\\nTrain set: Average loss: {:.4f}, Accuracy: {}/{} ({:.1f}%)\\n'.format(\n",
        "        loss, correct, len(dl_train.dataset),\n",
        "        100. * correct / len(dl_train.dataset)))"
      ]
    },
    {
      "cell_type": "markdown",
      "metadata": {
        "id": "H7Uxa2EXN4ph"
      },
      "source": [
        "Ok, the setup is almost done. The onoly missing part is the optimizer. We are going to use Adam."
      ]
    },
    {
      "cell_type": "code",
      "execution_count": null,
      "metadata": {
        "id": "Gjn_6ihLN4pi"
      },
      "outputs": [],
      "source": [
        "# reinitialize the mlp, so we can play with parameters right here\n",
        "mlp = MLP(nInput, nOutput, nLayer, nHidden, act_fn)\n",
        "optimizer = optim.Adam(mlp.parameters())"
      ]
    },
    {
      "cell_type": "code",
      "execution_count": null,
      "metadata": {
        "scrolled": true,
        "colab": {
          "base_uri": "https://localhost:8080/"
        },
        "id": "dj4mbIdCN4pi",
        "outputId": "723b1aee-0405-4771-d9ba-09aa2f3dc394"
      },
      "outputs": [
        {
          "output_type": "stream",
          "name": "stdout",
          "text": [
            "Train Epoch: 1 [0/60000 (0%)]\tLoss: 0.134054\n",
            "Train Epoch: 1 [6400/60000 (11%)]\tLoss: 0.133846\n",
            "Train Epoch: 1 [12800/60000 (21%)]\tLoss: 0.147281\n",
            "Train Epoch: 1 [19200/60000 (32%)]\tLoss: 0.316835\n",
            "Train Epoch: 1 [25600/60000 (43%)]\tLoss: 0.193601\n",
            "Train Epoch: 1 [32000/60000 (53%)]\tLoss: 0.094787\n",
            "Train Epoch: 1 [38400/60000 (64%)]\tLoss: 0.267087\n",
            "Train Epoch: 1 [44800/60000 (75%)]\tLoss: 0.339172\n",
            "Train Epoch: 1 [51200/60000 (85%)]\tLoss: 0.250375\n",
            "Train Epoch: 1 [57600/60000 (96%)]\tLoss: 0.074532\n",
            "\n",
            "Train set: Average loss: 0.0913, Accuracy: 56719/60000 (94.5%)\n",
            "\n",
            "\n",
            "Test set: Average loss: 0.1843, Accuracy: 9459/10000 (94.590%)\n",
            "\n",
            "Train Epoch: 2 [0/60000 (0%)]\tLoss: 0.178712\n",
            "Train Epoch: 2 [6400/60000 (11%)]\tLoss: 0.144966\n",
            "Train Epoch: 2 [12800/60000 (21%)]\tLoss: 0.142040\n",
            "Train Epoch: 2 [19200/60000 (32%)]\tLoss: 0.170593\n",
            "Train Epoch: 2 [25600/60000 (43%)]\tLoss: 0.170886\n",
            "Train Epoch: 2 [32000/60000 (53%)]\tLoss: 0.068569\n",
            "Train Epoch: 2 [38400/60000 (64%)]\tLoss: 0.231280\n",
            "Train Epoch: 2 [44800/60000 (75%)]\tLoss: 0.117826\n",
            "Train Epoch: 2 [51200/60000 (85%)]\tLoss: 0.097487\n",
            "Train Epoch: 2 [57600/60000 (96%)]\tLoss: 0.219456\n",
            "\n",
            "Train set: Average loss: 0.2310, Accuracy: 56956/60000 (94.9%)\n",
            "\n",
            "\n",
            "Test set: Average loss: 0.1840, Accuracy: 9436/10000 (94.360%)\n",
            "\n",
            "Train Epoch: 3 [0/60000 (0%)]\tLoss: 0.113549\n",
            "Train Epoch: 3 [6400/60000 (11%)]\tLoss: 0.110287\n",
            "Train Epoch: 3 [12800/60000 (21%)]\tLoss: 0.113692\n",
            "Train Epoch: 3 [19200/60000 (32%)]\tLoss: 0.138820\n",
            "Train Epoch: 3 [25600/60000 (43%)]\tLoss: 0.145907\n",
            "Train Epoch: 3 [32000/60000 (53%)]\tLoss: 0.060166\n",
            "Train Epoch: 3 [38400/60000 (64%)]\tLoss: 0.083782\n",
            "Train Epoch: 3 [44800/60000 (75%)]\tLoss: 0.203850\n",
            "Train Epoch: 3 [51200/60000 (85%)]\tLoss: 0.044476\n",
            "Train Epoch: 3 [57600/60000 (96%)]\tLoss: 0.059938\n",
            "\n",
            "Train set: Average loss: 0.0491, Accuracy: 57125/60000 (95.2%)\n",
            "\n",
            "\n",
            "Test set: Average loss: 0.1742, Accuracy: 9485/10000 (94.850%)\n",
            "\n",
            "Train Epoch: 4 [0/60000 (0%)]\tLoss: 0.118480\n",
            "Train Epoch: 4 [6400/60000 (11%)]\tLoss: 0.084841\n",
            "Train Epoch: 4 [12800/60000 (21%)]\tLoss: 0.068702\n",
            "Train Epoch: 4 [19200/60000 (32%)]\tLoss: 0.143373\n",
            "Train Epoch: 4 [25600/60000 (43%)]\tLoss: 0.209157\n",
            "Train Epoch: 4 [32000/60000 (53%)]\tLoss: 0.082494\n",
            "Train Epoch: 4 [38400/60000 (64%)]\tLoss: 0.188223\n",
            "Train Epoch: 4 [44800/60000 (75%)]\tLoss: 0.195843\n",
            "Train Epoch: 4 [51200/60000 (85%)]\tLoss: 0.190287\n",
            "Train Epoch: 4 [57600/60000 (96%)]\tLoss: 0.090452\n",
            "\n",
            "Train set: Average loss: 0.1849, Accuracy: 57286/60000 (95.5%)\n",
            "\n",
            "\n",
            "Test set: Average loss: 0.1603, Accuracy: 9523/10000 (95.230%)\n",
            "\n",
            "Train Epoch: 5 [0/60000 (0%)]\tLoss: 0.072638\n",
            "Train Epoch: 5 [6400/60000 (11%)]\tLoss: 0.126020\n",
            "Train Epoch: 5 [12800/60000 (21%)]\tLoss: 0.142915\n",
            "Train Epoch: 5 [19200/60000 (32%)]\tLoss: 0.108650\n",
            "Train Epoch: 5 [25600/60000 (43%)]\tLoss: 0.078110\n",
            "Train Epoch: 5 [32000/60000 (53%)]\tLoss: 0.235138\n",
            "Train Epoch: 5 [38400/60000 (64%)]\tLoss: 0.452079\n",
            "Train Epoch: 5 [44800/60000 (75%)]\tLoss: 0.208511\n",
            "Train Epoch: 5 [51200/60000 (85%)]\tLoss: 0.068138\n",
            "Train Epoch: 5 [57600/60000 (96%)]\tLoss: 0.036222\n",
            "\n",
            "Train set: Average loss: 0.1051, Accuracy: 57425/60000 (95.7%)\n",
            "\n",
            "\n",
            "Test set: Average loss: 0.1600, Accuracy: 9534/10000 (95.340%)\n",
            "\n",
            "Train Epoch: 6 [0/60000 (0%)]\tLoss: 0.069861\n",
            "Train Epoch: 6 [6400/60000 (11%)]\tLoss: 0.064508\n",
            "Train Epoch: 6 [12800/60000 (21%)]\tLoss: 0.205402\n",
            "Train Epoch: 6 [19200/60000 (32%)]\tLoss: 0.075376\n",
            "Train Epoch: 6 [25600/60000 (43%)]\tLoss: 0.038635\n",
            "Train Epoch: 6 [32000/60000 (53%)]\tLoss: 0.203245\n",
            "Train Epoch: 6 [38400/60000 (64%)]\tLoss: 0.111400\n",
            "Train Epoch: 6 [44800/60000 (75%)]\tLoss: 0.041618\n",
            "Train Epoch: 6 [51200/60000 (85%)]\tLoss: 0.125222\n",
            "Train Epoch: 6 [57600/60000 (96%)]\tLoss: 0.170282\n",
            "\n",
            "Train set: Average loss: 0.3947, Accuracy: 57500/60000 (95.8%)\n",
            "\n",
            "\n",
            "Test set: Average loss: 0.1586, Accuracy: 9542/10000 (95.420%)\n",
            "\n",
            "Train Epoch: 7 [0/60000 (0%)]\tLoss: 0.162337\n",
            "Train Epoch: 7 [6400/60000 (11%)]\tLoss: 0.054392\n",
            "Train Epoch: 7 [12800/60000 (21%)]\tLoss: 0.124601\n",
            "Train Epoch: 7 [19200/60000 (32%)]\tLoss: 0.015392\n",
            "Train Epoch: 7 [25600/60000 (43%)]\tLoss: 0.287069\n",
            "Train Epoch: 7 [32000/60000 (53%)]\tLoss: 0.092584\n",
            "Train Epoch: 7 [38400/60000 (64%)]\tLoss: 0.159089\n",
            "Train Epoch: 7 [44800/60000 (75%)]\tLoss: 0.119257\n",
            "Train Epoch: 7 [51200/60000 (85%)]\tLoss: 0.139024\n",
            "Train Epoch: 7 [57600/60000 (96%)]\tLoss: 0.047149\n",
            "\n",
            "Train set: Average loss: 0.0172, Accuracy: 57615/60000 (96.0%)\n",
            "\n",
            "\n",
            "Test set: Average loss: 0.1581, Accuracy: 9554/10000 (95.540%)\n",
            "\n",
            "Train Epoch: 8 [0/60000 (0%)]\tLoss: 0.130933\n",
            "Train Epoch: 8 [6400/60000 (11%)]\tLoss: 0.070140\n",
            "Train Epoch: 8 [12800/60000 (21%)]\tLoss: 0.094840\n",
            "Train Epoch: 8 [19200/60000 (32%)]\tLoss: 0.138725\n",
            "Train Epoch: 8 [25600/60000 (43%)]\tLoss: 0.075806\n",
            "Train Epoch: 8 [32000/60000 (53%)]\tLoss: 0.045533\n",
            "Train Epoch: 8 [38400/60000 (64%)]\tLoss: 0.140633\n",
            "Train Epoch: 8 [44800/60000 (75%)]\tLoss: 0.136313\n",
            "Train Epoch: 8 [51200/60000 (85%)]\tLoss: 0.135123\n",
            "Train Epoch: 8 [57600/60000 (96%)]\tLoss: 0.056980\n",
            "\n",
            "Train set: Average loss: 0.0840, Accuracy: 57721/60000 (96.2%)\n",
            "\n",
            "\n",
            "Test set: Average loss: 0.1603, Accuracy: 9532/10000 (95.320%)\n",
            "\n",
            "Train Epoch: 9 [0/60000 (0%)]\tLoss: 0.133986\n",
            "Train Epoch: 9 [6400/60000 (11%)]\tLoss: 0.184034\n",
            "Train Epoch: 9 [12800/60000 (21%)]\tLoss: 0.067387\n",
            "Train Epoch: 9 [19200/60000 (32%)]\tLoss: 0.065251\n",
            "Train Epoch: 9 [25600/60000 (43%)]\tLoss: 0.201293\n",
            "Train Epoch: 9 [32000/60000 (53%)]\tLoss: 0.133052\n",
            "Train Epoch: 9 [38400/60000 (64%)]\tLoss: 0.106405\n",
            "Train Epoch: 9 [44800/60000 (75%)]\tLoss: 0.105124\n",
            "Train Epoch: 9 [51200/60000 (85%)]\tLoss: 0.143434\n",
            "Train Epoch: 9 [57600/60000 (96%)]\tLoss: 0.135006\n",
            "\n",
            "Train set: Average loss: 0.0945, Accuracy: 57786/60000 (96.3%)\n",
            "\n",
            "\n",
            "Test set: Average loss: 0.1541, Accuracy: 9545/10000 (95.450%)\n",
            "\n",
            "Train Epoch: 10 [0/60000 (0%)]\tLoss: 0.091713\n",
            "Train Epoch: 10 [6400/60000 (11%)]\tLoss: 0.264410\n",
            "Train Epoch: 10 [12800/60000 (21%)]\tLoss: 0.042547\n",
            "Train Epoch: 10 [19200/60000 (32%)]\tLoss: 0.184829\n",
            "Train Epoch: 10 [25600/60000 (43%)]\tLoss: 0.020995\n",
            "Train Epoch: 10 [32000/60000 (53%)]\tLoss: 0.090516\n",
            "Train Epoch: 10 [38400/60000 (64%)]\tLoss: 0.083394\n",
            "Train Epoch: 10 [44800/60000 (75%)]\tLoss: 0.148915\n",
            "Train Epoch: 10 [51200/60000 (85%)]\tLoss: 0.306733\n",
            "Train Epoch: 10 [57600/60000 (96%)]\tLoss: 0.101603\n",
            "\n",
            "Train set: Average loss: 0.0705, Accuracy: 57826/60000 (96.4%)\n",
            "\n",
            "\n",
            "Test set: Average loss: 0.1562, Accuracy: 9568/10000 (95.680%)\n",
            "\n",
            "Training is finished.\n"
          ]
        }
      ],
      "source": [
        "epochs = 10\n",
        "for epoch in range(1, epochs + 1):\n",
        "    train(mlp, dl_train, optimizer, epoch, log_interval=100)\n",
        "    test(mlp, dl_test)\n",
        "\n",
        "print ('Training is finished.')"
      ]
    },
    {
      "cell_type": "markdown",
      "metadata": {
        "id": "_P9ht8oCN4pi"
      },
      "source": [
        "After training, you should see test accuracies of > **94%** - By they way, here we report test accuracy, the last exercises reported test error. Accuracy is simply (1 - error). Both metrics are commonly reported, there is no clear preference in literature for one or the other."
      ]
    },
    {
      "cell_type": "markdown",
      "metadata": {
        "id": "gS-41BCQN4pi"
      },
      "source": [
        "Now, can you do some parameter tuning to boost the test accuracy to > **97%**?"
      ]
    },
    {
      "cell_type": "code",
      "execution_count": null,
      "metadata": {
        "colab": {
          "base_uri": "https://localhost:8080/"
        },
        "id": "HnMxW113N4pi",
        "outputId": "7a9ce842-3e8d-4527-bf26-f4ab394f8011"
      },
      "outputs": [
        {
          "output_type": "stream",
          "name": "stdout",
          "text": [
            "Train Epoch: 1 [0/60000 (0%)]\tLoss: 2.319900\n",
            "Train Epoch: 1 [6400/60000 (11%)]\tLoss: 0.325443\n",
            "Train Epoch: 1 [12800/60000 (21%)]\tLoss: 0.107887\n",
            "Train Epoch: 1 [19200/60000 (32%)]\tLoss: 0.371453\n",
            "Train Epoch: 1 [25600/60000 (43%)]\tLoss: 0.376561\n",
            "Train Epoch: 1 [32000/60000 (53%)]\tLoss: 0.194920\n",
            "Train Epoch: 1 [38400/60000 (64%)]\tLoss: 0.093057\n",
            "Train Epoch: 1 [44800/60000 (75%)]\tLoss: 0.253412\n",
            "Train Epoch: 1 [51200/60000 (85%)]\tLoss: 0.164994\n",
            "Train Epoch: 1 [57600/60000 (96%)]\tLoss: 0.135783\n",
            "\n",
            "Train set: Average loss: 0.0549, Accuracy: 55501/60000 (92.5%)\n",
            "\n",
            "\n",
            "Test set: Average loss: 0.1241, Accuracy: 9606/10000 (96.060%)\n",
            "\n",
            "Train Epoch: 2 [0/60000 (0%)]\tLoss: 0.079900\n",
            "Train Epoch: 2 [6400/60000 (11%)]\tLoss: 0.069549\n",
            "Train Epoch: 2 [12800/60000 (21%)]\tLoss: 0.203660\n",
            "Train Epoch: 2 [19200/60000 (32%)]\tLoss: 0.164085\n",
            "Train Epoch: 2 [25600/60000 (43%)]\tLoss: 0.095194\n",
            "Train Epoch: 2 [32000/60000 (53%)]\tLoss: 0.014356\n",
            "Train Epoch: 2 [38400/60000 (64%)]\tLoss: 0.060722\n",
            "Train Epoch: 2 [44800/60000 (75%)]\tLoss: 0.016615\n",
            "Train Epoch: 2 [51200/60000 (85%)]\tLoss: 0.101809\n",
            "Train Epoch: 2 [57600/60000 (96%)]\tLoss: 0.189586\n",
            "\n",
            "Train set: Average loss: 0.1008, Accuracy: 58051/60000 (96.8%)\n",
            "\n",
            "\n",
            "Test set: Average loss: 0.0916, Accuracy: 9704/10000 (97.040%)\n",
            "\n",
            "Train Epoch: 3 [0/60000 (0%)]\tLoss: 0.025497\n",
            "Train Epoch: 3 [6400/60000 (11%)]\tLoss: 0.114351\n",
            "Train Epoch: 3 [12800/60000 (21%)]\tLoss: 0.028997\n",
            "Train Epoch: 3 [19200/60000 (32%)]\tLoss: 0.011323\n",
            "Train Epoch: 3 [25600/60000 (43%)]\tLoss: 0.004569\n",
            "Train Epoch: 3 [32000/60000 (53%)]\tLoss: 0.096263\n",
            "Train Epoch: 3 [38400/60000 (64%)]\tLoss: 0.103818\n",
            "Train Epoch: 3 [44800/60000 (75%)]\tLoss: 0.052066\n",
            "Train Epoch: 3 [51200/60000 (85%)]\tLoss: 0.021443\n",
            "Train Epoch: 3 [57600/60000 (96%)]\tLoss: 0.103146\n",
            "\n",
            "Train set: Average loss: 0.0082, Accuracy: 58619/60000 (97.7%)\n",
            "\n",
            "\n",
            "Test set: Average loss: 0.0870, Accuracy: 9728/10000 (97.280%)\n",
            "\n",
            "Train Epoch: 4 [0/60000 (0%)]\tLoss: 0.035217\n",
            "Train Epoch: 4 [6400/60000 (11%)]\tLoss: 0.016728\n",
            "Train Epoch: 4 [12800/60000 (21%)]\tLoss: 0.017922\n",
            "Train Epoch: 4 [19200/60000 (32%)]\tLoss: 0.017731\n",
            "Train Epoch: 4 [25600/60000 (43%)]\tLoss: 0.147312\n",
            "Train Epoch: 4 [32000/60000 (53%)]\tLoss: 0.009752\n",
            "Train Epoch: 4 [38400/60000 (64%)]\tLoss: 0.205955\n",
            "Train Epoch: 4 [44800/60000 (75%)]\tLoss: 0.057687\n",
            "Train Epoch: 4 [51200/60000 (85%)]\tLoss: 0.027643\n",
            "Train Epoch: 4 [57600/60000 (96%)]\tLoss: 0.053219\n",
            "\n",
            "Train set: Average loss: 0.0433, Accuracy: 58907/60000 (98.2%)\n",
            "\n",
            "\n",
            "Test set: Average loss: 0.0754, Accuracy: 9773/10000 (97.730%)\n",
            "\n",
            "Train Epoch: 5 [0/60000 (0%)]\tLoss: 0.025801\n",
            "Train Epoch: 5 [6400/60000 (11%)]\tLoss: 0.032367\n",
            "Train Epoch: 5 [12800/60000 (21%)]\tLoss: 0.019254\n",
            "Train Epoch: 5 [19200/60000 (32%)]\tLoss: 0.007014\n",
            "Train Epoch: 5 [25600/60000 (43%)]\tLoss: 0.114366\n",
            "Train Epoch: 5 [32000/60000 (53%)]\tLoss: 0.012736\n",
            "Train Epoch: 5 [38400/60000 (64%)]\tLoss: 0.074292\n",
            "Train Epoch: 5 [44800/60000 (75%)]\tLoss: 0.034848\n",
            "Train Epoch: 5 [51200/60000 (85%)]\tLoss: 0.015737\n",
            "Train Epoch: 5 [57600/60000 (96%)]\tLoss: 0.004898\n",
            "\n",
            "Train set: Average loss: 0.0970, Accuracy: 59075/60000 (98.5%)\n",
            "\n",
            "\n",
            "Test set: Average loss: 0.0690, Accuracy: 9779/10000 (97.790%)\n",
            "\n",
            "Train Epoch: 6 [0/60000 (0%)]\tLoss: 0.013924\n",
            "Train Epoch: 6 [6400/60000 (11%)]\tLoss: 0.035483\n",
            "Train Epoch: 6 [12800/60000 (21%)]\tLoss: 0.002168\n",
            "Train Epoch: 6 [19200/60000 (32%)]\tLoss: 0.003225\n",
            "Train Epoch: 6 [25600/60000 (43%)]\tLoss: 0.013546\n",
            "Train Epoch: 6 [32000/60000 (53%)]\tLoss: 0.068742\n",
            "Train Epoch: 6 [38400/60000 (64%)]\tLoss: 0.073235\n",
            "Train Epoch: 6 [44800/60000 (75%)]\tLoss: 0.154946\n",
            "Train Epoch: 6 [51200/60000 (85%)]\tLoss: 0.071677\n",
            "Train Epoch: 6 [57600/60000 (96%)]\tLoss: 0.092931\n",
            "\n",
            "Train set: Average loss: 0.0163, Accuracy: 59243/60000 (98.7%)\n",
            "\n",
            "\n",
            "Test set: Average loss: 0.0786, Accuracy: 9763/10000 (97.630%)\n",
            "\n",
            "Train Epoch: 7 [0/60000 (0%)]\tLoss: 0.002147\n",
            "Train Epoch: 7 [6400/60000 (11%)]\tLoss: 0.029726\n",
            "Train Epoch: 7 [12800/60000 (21%)]\tLoss: 0.020550\n",
            "Train Epoch: 7 [19200/60000 (32%)]\tLoss: 0.022223\n",
            "Train Epoch: 7 [25600/60000 (43%)]\tLoss: 0.010533\n",
            "Train Epoch: 7 [32000/60000 (53%)]\tLoss: 0.015705\n",
            "Train Epoch: 7 [38400/60000 (64%)]\tLoss: 0.028104\n",
            "Train Epoch: 7 [44800/60000 (75%)]\tLoss: 0.001396\n",
            "Train Epoch: 7 [51200/60000 (85%)]\tLoss: 0.014742\n",
            "Train Epoch: 7 [57600/60000 (96%)]\tLoss: 0.065650\n",
            "\n",
            "Train set: Average loss: 0.0042, Accuracy: 59426/60000 (99.0%)\n",
            "\n",
            "\n",
            "Test set: Average loss: 0.0782, Accuracy: 9779/10000 (97.790%)\n",
            "\n",
            "Train Epoch: 8 [0/60000 (0%)]\tLoss: 0.014318\n",
            "Train Epoch: 8 [6400/60000 (11%)]\tLoss: 0.002197\n",
            "Train Epoch: 8 [12800/60000 (21%)]\tLoss: 0.036027\n",
            "Train Epoch: 8 [19200/60000 (32%)]\tLoss: 0.019619\n",
            "Train Epoch: 8 [25600/60000 (43%)]\tLoss: 0.021349\n",
            "Train Epoch: 8 [32000/60000 (53%)]\tLoss: 0.015297\n",
            "Train Epoch: 8 [38400/60000 (64%)]\tLoss: 0.047743\n",
            "Train Epoch: 8 [44800/60000 (75%)]\tLoss: 0.034371\n",
            "Train Epoch: 8 [51200/60000 (85%)]\tLoss: 0.003533\n",
            "Train Epoch: 8 [57600/60000 (96%)]\tLoss: 0.041316\n",
            "\n",
            "Train set: Average loss: 0.0294, Accuracy: 59482/60000 (99.1%)\n",
            "\n",
            "\n",
            "Test set: Average loss: 0.0949, Accuracy: 9754/10000 (97.540%)\n",
            "\n",
            "Train Epoch: 9 [0/60000 (0%)]\tLoss: 0.026011\n",
            "Train Epoch: 9 [6400/60000 (11%)]\tLoss: 0.035526\n",
            "Train Epoch: 9 [12800/60000 (21%)]\tLoss: 0.001313\n",
            "Train Epoch: 9 [19200/60000 (32%)]\tLoss: 0.031333\n",
            "Train Epoch: 9 [25600/60000 (43%)]\tLoss: 0.003604\n",
            "Train Epoch: 9 [32000/60000 (53%)]\tLoss: 0.011041\n",
            "Train Epoch: 9 [38400/60000 (64%)]\tLoss: 0.002397\n",
            "Train Epoch: 9 [44800/60000 (75%)]\tLoss: 0.025199\n",
            "Train Epoch: 9 [51200/60000 (85%)]\tLoss: 0.015509\n",
            "Train Epoch: 9 [57600/60000 (96%)]\tLoss: 0.000482\n",
            "\n",
            "Train set: Average loss: 0.0043, Accuracy: 59469/60000 (99.1%)\n",
            "\n",
            "\n",
            "Test set: Average loss: 0.0900, Accuracy: 9764/10000 (97.640%)\n",
            "\n",
            "Train Epoch: 10 [0/60000 (0%)]\tLoss: 0.005372\n",
            "Train Epoch: 10 [6400/60000 (11%)]\tLoss: 0.050171\n",
            "Train Epoch: 10 [12800/60000 (21%)]\tLoss: 0.002813\n",
            "Train Epoch: 10 [19200/60000 (32%)]\tLoss: 0.009171\n",
            "Train Epoch: 10 [25600/60000 (43%)]\tLoss: 0.002087\n",
            "Train Epoch: 10 [32000/60000 (53%)]\tLoss: 0.052198\n",
            "Train Epoch: 10 [38400/60000 (64%)]\tLoss: 0.004776\n",
            "Train Epoch: 10 [44800/60000 (75%)]\tLoss: 0.002526\n",
            "Train Epoch: 10 [51200/60000 (85%)]\tLoss: 0.000940\n",
            "Train Epoch: 10 [57600/60000 (96%)]\tLoss: 0.000447\n",
            "\n",
            "Train set: Average loss: 0.0005, Accuracy: 59566/60000 (99.3%)\n",
            "\n",
            "\n",
            "Test set: Average loss: 0.0865, Accuracy: 9793/10000 (97.930%)\n",
            "\n",
            "Training is finished.\n"
          ]
        }
      ],
      "source": [
        "#########################################################################\n",
        "#TODO: modify the parameters below to see which setting that you can get to 97%\n",
        "#########################################################################\n",
        "nLayer = 2\n",
        "nHidden = 128 # increase number of hidden neurons\n",
        "act_fn = nn.ReLU()\n",
        "\n",
        "# reinitialize the mlp, so we can play with parameters right here\n",
        "mlp = MLP(nInput, nOutput, nLayer, nHidden, act_fn)\n",
        "optimizer = optim.Adam(mlp.parameters())\n",
        "\n",
        "epochs = 10\n",
        "for epoch in range(1, epochs + 1):\n",
        "    train(mlp, dl_train, optimizer, epoch, log_interval=100)\n",
        "    test(mlp, dl_test)\n",
        "\n",
        "print ('Training is finished.')"
      ]
    },
    {
      "cell_type": "markdown",
      "metadata": {
        "id": "JKcIQsdoN4pi"
      },
      "source": [
        "Before you move on to the next exercise, you can further play with the other parameters (learning rate, epochs, a different optimizer, etc.) to get a feeling what can improve or hamper performance. "
      ]
    },
    {
      "cell_type": "markdown",
      "metadata": {
        "id": "kJg_DwEEN4pi"
      },
      "source": [
        "## CNN\n",
        "Alright, we matched our prior performance. Let's surpass it! You will soon see the power of CNN by building a small one yourself. The structure should be as follows\n",
        "\n",
        "| CNN Architecture                             \t|\n",
        "|----------------------------------------------\t|\n",
        "| Conv: $C_{in}=1, C_{out}=32, K=3, S=1, P=0$  \t|\n",
        "| ReLU                                         \t|\n",
        "| Conv: $C_{in}=32, C_{out}=64, K=3, S=1, P=0$ \t|\n",
        "| ReLU                                         \t|\n",
        "| MaxPool2d: $K=2, S=2, P=0$                   \t|\n",
        "| Dropout: $p=0.25$                            \t|\n",
        "| Linear: $C_{in}=9216, C_{out}=128$           \t|\n",
        "| ReLU                                         \t|\n",
        "| Dropout: $p=0.5$                             \t|\n",
        "| Linear: $C_{in}=128, C_{out}=10$             \t|\n",
        "\n",
        "The layers you will need are: \n",
        "\n",
        "`nn.Conv2d,  nn.Linear,  nn.Dropout, nn.MaxPool2d, nn.Flatten`\n",
        "\n",
        "For layers without parameters you can alternatively use function in the forward pass:  \n",
        "\n",
        "`F.max_pool2d, torch.flatten`"
      ]
    },
    {
      "cell_type": "code",
      "execution_count": null,
      "metadata": {
        "id": "8kQ8q5ZcN4pj"
      },
      "outputs": [],
      "source": [
        "#########################################################################\n",
        "# TODO: Implement the __init__ and forward method of the CNN class. \n",
        "# Hint: do not forget to flatten the appropriate dimension after the convolutional blocks. \n",
        "# A linear layers expect input of the size (B, H) with batch size B and feature size H\n",
        "#########################################################################\n",
        "\n",
        "class CNN(nn.Module):\n",
        "    def __init__(self):\n",
        "        super(CNN, self).__init__()\n",
        "        self.model = nn.Sequential(\n",
        "            nn.Conv2d(1, 32, 3, 1, 0),\n",
        "            nn.ReLU(),\n",
        "            nn.Conv2d(32, 64, 3, 1, 0),\n",
        "            nn.ReLU(),\n",
        "            nn.MaxPool2d(2, 2, 0),\n",
        "            nn.Dropout(0.25),\n",
        "            nn.Flatten(),\n",
        "            nn.Linear(9216, 128),\n",
        "            nn.ReLU(),\n",
        "            nn.Dropout(0.5),\n",
        "            nn.Linear(128, 10)\n",
        "        )\n",
        "\n",
        "    def forward(self, x):\n",
        "        return self.model(x)\n"
      ]
    },
    {
      "cell_type": "code",
      "execution_count": null,
      "metadata": {
        "colab": {
          "base_uri": "https://localhost:8080/"
        },
        "id": "e7ObLaD-N4pj",
        "outputId": "ab09600b-ea42-40f8-a253-2c4ce18d4d43"
      },
      "outputs": [
        {
          "output_type": "execute_result",
          "data": {
            "text/plain": [
              "torch.Size([1, 10])"
            ]
          },
          "metadata": {},
          "execution_count": 14
        }
      ],
      "source": [
        "# Let's test if the forward pass works\n",
        "# this should print torch.Size([1, 10])\n",
        "t = torch.randn(1,1,28,28)\n",
        "cnn = CNN()\n",
        "cnn(t).shape"
      ]
    },
    {
      "cell_type": "markdown",
      "metadata": {
        "id": "x_M5BZgPN4pj"
      },
      "source": [
        "Alright, let's train!"
      ]
    },
    {
      "cell_type": "code",
      "execution_count": null,
      "metadata": {
        "id": "nZd5myl6N4pj"
      },
      "outputs": [],
      "source": [
        "optimizer = optim.Adam(cnn.parameters())"
      ]
    },
    {
      "cell_type": "code",
      "execution_count": null,
      "metadata": {
        "scrolled": true,
        "colab": {
          "base_uri": "https://localhost:8080/"
        },
        "id": "iuo-CH5UN4pj",
        "outputId": "c10829e9-2f82-4194-e41d-8bb61232a413"
      },
      "outputs": [
        {
          "output_type": "stream",
          "name": "stdout",
          "text": [
            "Train Epoch: 1 [0/60000 (0%)]\tLoss: 2.324407\n",
            "Train Epoch: 1 [6400/60000 (11%)]\tLoss: 0.158080\n",
            "Train Epoch: 1 [12800/60000 (21%)]\tLoss: 0.116237\n",
            "Train Epoch: 1 [19200/60000 (32%)]\tLoss: 0.054916\n",
            "Train Epoch: 1 [25600/60000 (43%)]\tLoss: 0.079713\n",
            "Train Epoch: 1 [32000/60000 (53%)]\tLoss: 0.030901\n",
            "Train Epoch: 1 [38400/60000 (64%)]\tLoss: 0.134260\n",
            "Train Epoch: 1 [44800/60000 (75%)]\tLoss: 0.149571\n",
            "Train Epoch: 1 [51200/60000 (85%)]\tLoss: 0.044785\n",
            "Train Epoch: 1 [57600/60000 (96%)]\tLoss: 0.051610\n",
            "\n",
            "Train set: Average loss: 0.0470, Accuracy: 56425/60000 (94.0%)\n",
            "\n",
            "\n",
            "Test set: Average loss: 0.0497, Accuracy: 9843/10000 (98.430%)\n",
            "\n",
            "Train Epoch: 2 [0/60000 (0%)]\tLoss: 0.031760\n",
            "Train Epoch: 2 [6400/60000 (11%)]\tLoss: 0.067868\n",
            "Train Epoch: 2 [12800/60000 (21%)]\tLoss: 0.046881\n",
            "Train Epoch: 2 [19200/60000 (32%)]\tLoss: 0.078426\n",
            "Train Epoch: 2 [25600/60000 (43%)]\tLoss: 0.090084\n",
            "Train Epoch: 2 [32000/60000 (53%)]\tLoss: 0.027815\n",
            "Train Epoch: 2 [38400/60000 (64%)]\tLoss: 0.102248\n",
            "Train Epoch: 2 [44800/60000 (75%)]\tLoss: 0.011413\n",
            "Train Epoch: 2 [51200/60000 (85%)]\tLoss: 0.104140\n",
            "Train Epoch: 2 [57600/60000 (96%)]\tLoss: 0.022793\n",
            "\n",
            "Train set: Average loss: 0.3241, Accuracy: 58579/60000 (97.6%)\n",
            "\n",
            "\n",
            "Test set: Average loss: 0.0372, Accuracy: 9875/10000 (98.750%)\n",
            "\n",
            "Train Epoch: 3 [0/60000 (0%)]\tLoss: 0.108384\n",
            "Train Epoch: 3 [6400/60000 (11%)]\tLoss: 0.107743\n",
            "Train Epoch: 3 [12800/60000 (21%)]\tLoss: 0.137023\n",
            "Train Epoch: 3 [19200/60000 (32%)]\tLoss: 0.041085\n",
            "Train Epoch: 3 [25600/60000 (43%)]\tLoss: 0.007892\n",
            "Train Epoch: 3 [32000/60000 (53%)]\tLoss: 0.098342\n",
            "Train Epoch: 3 [38400/60000 (64%)]\tLoss: 0.028256\n",
            "Train Epoch: 3 [44800/60000 (75%)]\tLoss: 0.044641\n",
            "Train Epoch: 3 [51200/60000 (85%)]\tLoss: 0.065727\n",
            "Train Epoch: 3 [57600/60000 (96%)]\tLoss: 0.006200\n",
            "\n",
            "Train set: Average loss: 0.0589, Accuracy: 58895/60000 (98.2%)\n",
            "\n",
            "\n",
            "Test set: Average loss: 0.0288, Accuracy: 9906/10000 (99.060%)\n",
            "\n",
            "Train Epoch: 4 [0/60000 (0%)]\tLoss: 0.010040\n",
            "Train Epoch: 4 [6400/60000 (11%)]\tLoss: 0.024231\n",
            "Train Epoch: 4 [12800/60000 (21%)]\tLoss: 0.063737\n",
            "Train Epoch: 4 [19200/60000 (32%)]\tLoss: 0.042906\n",
            "Train Epoch: 4 [25600/60000 (43%)]\tLoss: 0.081719\n",
            "Train Epoch: 4 [32000/60000 (53%)]\tLoss: 0.012457\n",
            "Train Epoch: 4 [38400/60000 (64%)]\tLoss: 0.037418\n",
            "Train Epoch: 4 [44800/60000 (75%)]\tLoss: 0.007423\n",
            "Train Epoch: 4 [51200/60000 (85%)]\tLoss: 0.017752\n",
            "Train Epoch: 4 [57600/60000 (96%)]\tLoss: 0.067474\n",
            "\n",
            "Train set: Average loss: 0.1312, Accuracy: 59073/60000 (98.5%)\n",
            "\n",
            "\n",
            "Test set: Average loss: 0.0310, Accuracy: 9906/10000 (99.060%)\n",
            "\n",
            "Train Epoch: 5 [0/60000 (0%)]\tLoss: 0.042037\n",
            "Train Epoch: 5 [6400/60000 (11%)]\tLoss: 0.005061\n",
            "Train Epoch: 5 [12800/60000 (21%)]\tLoss: 0.183843\n",
            "Train Epoch: 5 [19200/60000 (32%)]\tLoss: 0.049690\n",
            "Train Epoch: 5 [25600/60000 (43%)]\tLoss: 0.004591\n",
            "Train Epoch: 5 [32000/60000 (53%)]\tLoss: 0.063511\n",
            "Train Epoch: 5 [38400/60000 (64%)]\tLoss: 0.203018\n",
            "Train Epoch: 5 [44800/60000 (75%)]\tLoss: 0.002801\n",
            "Train Epoch: 5 [51200/60000 (85%)]\tLoss: 0.007735\n",
            "Train Epoch: 5 [57600/60000 (96%)]\tLoss: 0.011304\n",
            "\n",
            "Train set: Average loss: 0.0353, Accuracy: 59196/60000 (98.7%)\n",
            "\n",
            "\n",
            "Test set: Average loss: 0.0292, Accuracy: 9915/10000 (99.150%)\n",
            "\n"
          ]
        }
      ],
      "source": [
        "epochs = 5\n",
        "for epoch in range(1, epochs + 1):\n",
        "    train(cnn, dl_train, optimizer, epoch, log_interval=100)\n",
        "    test(cnn, dl_test)"
      ]
    },
    {
      "cell_type": "markdown",
      "metadata": {
        "id": "I5PT-VXLN4pk"
      },
      "source": [
        "This will probably take a bit longer to train, as a convolutional network is not very efficient on a CPU. The current settings should get you around **99%** accuracy. Nice! \n",
        "Again, you should try different hyperparameters and see how far you can push the performance."
      ]
    },
    {
      "cell_type": "markdown",
      "metadata": {
        "id": "RJ3kupjeN4pk"
      },
      "source": [
        "### Inline Question\n",
        "\n",
        "If your model weight is randomly initalized, and no training is done as above. What accuracy do you think the model will get for a 10-class classification task in theory?\n",
        "\n",
        "**Your answer**: If the CNN model is not trained and is only randomly initialized, it is unable to learn the spatial invariance pattern of images. For any testing image, the output will be like a random guess, yielding an approxiamtely 10% accuracy.\n"
      ]
    },
    {
      "cell_type": "markdown",
      "metadata": {
        "id": "iNJpz4kcN4pk"
      },
      "source": [
        "## Training on CIFAR10\n",
        "\n",
        "Now we are going to move to something more challenging - CIFAR10. We can reuse most of the code above. Thankfully, CIFAR is also a popular dataset, so we can again make use of a PyTorch convience function."
      ]
    },
    {
      "cell_type": "code",
      "execution_count": null,
      "metadata": {
        "colab": {
          "base_uri": "https://localhost:8080/",
          "height": 85,
          "referenced_widgets": [
            "ec464aa3541a420990385cd404994ec2",
            "d0144ec9215f4b06a19dcb82b6352fbc",
            "ac8293180a4247ba90110d9e7d718b6d",
            "ca0759af76f04ef0ada3b5f49fc64eb2",
            "1ff3fdb107c74519ac1d951d9daea6d6",
            "6f7af06b466d46c18dcae94b664d1e00",
            "104037f093f644aa99215fcd1d189b5c",
            "9309305f174d4e789af139ced8021754",
            "a81015cf5d0a4b3994fda1a0c9c963b7",
            "6fe4b60608d74f0dbf8869f36f1fc702",
            "54613ca9d394434b94eafc4cf5b7d309"
          ]
        },
        "id": "ACgLUZvSN4pk",
        "outputId": "fb8827a5-8042-4288-8feb-e5c45bcd0c40"
      },
      "outputs": [
        {
          "output_type": "stream",
          "name": "stdout",
          "text": [
            "Downloading https://www.cs.toronto.edu/~kriz/cifar-10-python.tar.gz to ./data/cifar-10-python.tar.gz\n"
          ]
        },
        {
          "output_type": "display_data",
          "data": {
            "text/plain": [
              "  0%|          | 0/170498071 [00:00<?, ?it/s]"
            ],
            "application/vnd.jupyter.widget-view+json": {
              "version_major": 2,
              "version_minor": 0,
              "model_id": "ec464aa3541a420990385cd404994ec2"
            }
          },
          "metadata": {}
        },
        {
          "output_type": "stream",
          "name": "stdout",
          "text": [
            "Extracting ./data/cifar-10-python.tar.gz to ./data\n"
          ]
        }
      ],
      "source": [
        "ds_train = datasets.CIFAR10(root='./data', train=True, download=True)"
      ]
    },
    {
      "cell_type": "markdown",
      "metadata": {
        "id": "SRHrW6Y1N4pk"
      },
      "source": [
        "This dataset is not normalized yet, so we need to calculate the normalization constants."
      ]
    },
    {
      "cell_type": "code",
      "execution_count": null,
      "metadata": {
        "id": "zGhZLpYMN4pk"
      },
      "outputs": [],
      "source": [
        "ims_train = torch.tensor(ds_train.data)\n",
        "ims_train = ims_train.float() / 255."
      ]
    },
    {
      "cell_type": "code",
      "execution_count": null,
      "metadata": {
        "colab": {
          "base_uri": "https://localhost:8080/"
        },
        "id": "P7Zl-ToyN4pl",
        "outputId": "5a2d652b-fed3-40c4-d5c5-3bb8901ca669"
      },
      "outputs": [
        {
          "output_type": "execute_result",
          "data": {
            "text/plain": [
              "torch.Size([50000, 32, 32, 3])"
            ]
          },
          "metadata": {},
          "execution_count": 19
        }
      ],
      "source": [
        "ims_train.shape"
      ]
    },
    {
      "cell_type": "code",
      "execution_count": null,
      "metadata": {
        "id": "j9AlGdQkN4pl",
        "outputId": "e4aa790e-ab51-46ce-ebcf-8003c38bca3a"
      },
      "outputs": [
        {
          "data": {
            "text/plain": [
              "tensor([0.2470, 0.2435, 0.2616])"
            ]
          },
          "execution_count": 72,
          "metadata": {},
          "output_type": "execute_result"
        }
      ],
      "source": [
        "ims_train.std((0,1,2))"
      ]
    },
    {
      "cell_type": "code",
      "execution_count": null,
      "metadata": {
        "id": "KMZq7jXvN4pl"
      },
      "outputs": [],
      "source": [
        "#########################################################################\n",
        "# TODO: calculate the mean and std of CIFAR\n",
        "# hint: We want the mean and std of the channel dimension, these should\n",
        "# be 3 dimensional\n",
        "#########################################################################\n",
        "mu = torch.mean(ims_train, dim=(0,1,2))\n",
        "std = torch.std(ims_train, dim=(0,1,2))"
      ]
    },
    {
      "cell_type": "code",
      "execution_count": null,
      "metadata": {
        "id": "djtWg6RkN4pl",
        "outputId": "f05e4dbe-2266-436e-f14c-56246c3488f5"
      },
      "outputs": [
        {
          "data": {
            "text/plain": [
              "tensor([0.4914, 0.4822, 0.4465])"
            ]
          },
          "execution_count": 73,
          "metadata": {},
          "output_type": "execute_result"
        }
      ],
      "source": [
        "torch.mean(ims_train, dim=(0,1,2))"
      ]
    },
    {
      "cell_type": "markdown",
      "metadata": {
        "id": "34SgDF5mN4pl"
      },
      "source": [
        "For CIFAR we want to make use of data augmentation to improve generalization. You will find all data augmentations data are included in torchvision here:\n",
        "\n",
        "https://pytorch.org/docs/stable/torchvision/transforms.html"
      ]
    },
    {
      "cell_type": "code",
      "execution_count": null,
      "metadata": {
        "colab": {
          "base_uri": "https://localhost:8080/"
        },
        "id": "qz_4MqoMN4pl",
        "outputId": "7f408041-4d5d-4c2e-865f-347993e24425"
      },
      "outputs": [
        {
          "output_type": "stream",
          "name": "stdout",
          "text": [
            "Files already downloaded and verified\n",
            "Files already downloaded and verified\n"
          ]
        }
      ],
      "source": [
        "BATCH_SIZE = 128\n",
        "NUM_WORKERS = 4 # if you encounter some unexpected errors in data loading, try setting `NUM_WORKERS = 0`\n",
        "#########################################################################\n",
        "# TODO: Implement the proper transforms for the training and test dataloaders. \n",
        "# Then build train and test dataloaders with batch size 128 and 4 workers\n",
        "#\n",
        "# Train: \n",
        "# - Apply a random crop with size 32 on a padded version of the image with P=4\n",
        "# - Flip the image horizontally with a probability of 40 %\n",
        "# - Transform to a Tensor\n",
        "# - Normalize with the constants calculated above\n",
        "# Test: \n",
        "# - Transform to a Tensor\n",
        "# - Normalize with the constants calculated above\n",
        "#########################################################################\n",
        "transform_train = transforms.Compose([\n",
        "    transforms.RandomCrop(size = 32, padding = 4),\n",
        "    transforms.RandomHorizontalFlip(p = 0.4),\n",
        "    transforms.ToTensor(),\n",
        "    transforms.Normalize(mu, std)\n",
        "])\n",
        "transform_test = transforms.Compose([\n",
        "    transforms.ToTensor(),\n",
        "    transforms.Normalize(mu, std)\n",
        "])\n",
        "\n",
        "ds_train = datasets.CIFAR10('./data', train=True, download=True, transform=transform_train)\n",
        "ds_test = datasets.CIFAR10('./data', train=False, download=True, transform=transform_test)\n",
        "\n",
        "dl_train = DataLoader(\n",
        "    ds_train,\n",
        "    batch_size=BATCH_SIZE,\n",
        "    num_workers=NUM_WORKERS,\n",
        "    shuffle=True\n",
        ")\n",
        "dl_test = DataLoader(\n",
        "    ds_test,\n",
        "    batch_size=BATCH_SIZE,\n",
        "    num_workers=NUM_WORKERS,\n",
        "    shuffle=False\n",
        ")"
      ]
    },
    {
      "cell_type": "markdown",
      "metadata": {
        "id": "-JC3B2QMN4pm"
      },
      "source": [
        "Setting up the  optimizer, this time we use SGD. The scheduler adapts the learning rate during traing (you can ignore it)"
      ]
    },
    {
      "cell_type": "code",
      "execution_count": null,
      "metadata": {
        "id": "Q4TLHclQN4pm"
      },
      "outputs": [],
      "source": [
        "cnn = CNN()\n",
        "optimizer = optim.SGD(cnn.parameters(), lr=0.1, momentum=0.9, weight_decay=5e-4)\n",
        "scheduler = torch.optim.lr_scheduler.CosineAnnealingLR(optimizer, T_max=200)"
      ]
    },
    {
      "cell_type": "code",
      "execution_count": null,
      "metadata": {
        "scrolled": true,
        "id": "WhCy1zq6N4pm"
      },
      "outputs": [],
      "source": [
        "epochs = 5\n",
        "for epoch in range(1, epochs + 1):\n",
        "    train(cnn, dl_train, optimizer, epoch, log_interval=100)\n",
        "    test(cnn, dl_test)    \n",
        "    scheduler.step()"
      ]
    },
    {
      "cell_type": "markdown",
      "metadata": {
        "id": "CbgbP-IAN4pm"
      },
      "source": [
        "This will not work. You should see the following error message\n",
        "\n",
        "```\n",
        "Given groups=1, weight of size [32, 1, 3, 3], expected input[128, 3, 32, 32] to have 1 channels, but got 3 channels instead\n",
        "```\n",
        "\n",
        "This error is telling us that something is not right in the definition of our model. Copy the CNN class from above and make changes, so the training works."
      ]
    },
    {
      "cell_type": "code",
      "execution_count": null,
      "metadata": {
        "id": "UB-Xwsc0N4pm"
      },
      "outputs": [],
      "source": [
        "#########################################################################\n",
        "# TODO: Implement the __init__ and forward method of the CNN class. \n",
        "# Hint: do not forget to flatten the appropriate dimension after the convolutional blocks. \n",
        "# A linear layers expect input of the size (B, H) with batch size B and feature size H\n",
        "#########################################################################\n",
        "\n",
        "class CNN(nn.Module):\n",
        "    def __init__(self):\n",
        "        super(CNN, self).__init__()\n",
        "        self.model = nn.Sequential(\n",
        "            nn.Conv2d(3, 12, 5, 1, 0), # change the input channel to be 3\n",
        "            nn.ReLU(),\n",
        "            nn.Conv2d(12, 24, 5, 1, 0),\n",
        "            nn.ReLU(),\n",
        "            nn.MaxPool2d(2, 2, 0),\n",
        "            nn.Dropout(0.25),\n",
        "            nn.Flatten(),\n",
        "            nn.Linear(3456, 128), # change the input dim to the correct one\n",
        "            nn.ReLU(),\n",
        "            nn.Dropout(0.5),\n",
        "            nn.Linear(128, 10)\n",
        "        )\n",
        "\n",
        "    def forward(self, x):\n",
        "        return self.model(x)\n"
      ]
    },
    {
      "cell_type": "code",
      "source": [
        "# Test if the forward pass works\n",
        "# this should print torch.Size([1, 10])\n",
        "t = torch.randn(1,3,32,32)\n",
        "cnn = CNN()\n",
        "cnn(t).shape"
      ],
      "metadata": {
        "colab": {
          "base_uri": "https://localhost:8080/"
        },
        "id": "Y9AR6iY0Q57x",
        "outputId": "be15aabb-f809-40ae-d889-59e166a3c424"
      },
      "execution_count": null,
      "outputs": [
        {
          "output_type": "execute_result",
          "data": {
            "text/plain": [
              "torch.Size([1, 10])"
            ]
          },
          "metadata": {},
          "execution_count": 23
        }
      ]
    },
    {
      "cell_type": "markdown",
      "metadata": {
        "id": "0d-EIBrjN4pm"
      },
      "source": [
        "Let's try again"
      ]
    },
    {
      "cell_type": "code",
      "execution_count": null,
      "metadata": {
        "scrolled": true,
        "colab": {
          "base_uri": "https://localhost:8080/"
        },
        "id": "y_ZUEITAN4pn",
        "outputId": "2b21899e-d941-48b4-f8fc-3f05632887e9"
      },
      "outputs": [
        {
          "output_type": "stream",
          "name": "stdout",
          "text": [
            "Train Epoch: 1 [0/50000 (0%)]\tLoss: 2.296770\n",
            "Train Epoch: 1 [12800/50000 (26%)]\tLoss: 2.060762\n",
            "Train Epoch: 1 [25600/50000 (51%)]\tLoss: 2.103150\n",
            "Train Epoch: 1 [38400/50000 (77%)]\tLoss: 1.815776\n",
            "\n",
            "Train set: Average loss: 1.9694, Accuracy: 11850/50000 (23.7%)\n",
            "\n",
            "\n",
            "Test set: Average loss: 1.8524, Accuracy: 3151/10000 (31.510%)\n",
            "\n",
            "Train Epoch: 2 [0/50000 (0%)]\tLoss: 2.079679\n",
            "Train Epoch: 2 [12800/50000 (26%)]\tLoss: 1.958722\n",
            "Train Epoch: 2 [25600/50000 (51%)]\tLoss: 1.980415\n",
            "Train Epoch: 2 [38400/50000 (77%)]\tLoss: 1.857217\n",
            "\n",
            "Train set: Average loss: 1.9856, Accuracy: 14135/50000 (28.3%)\n",
            "\n",
            "\n",
            "Test set: Average loss: 1.8442, Accuracy: 3083/10000 (30.830%)\n",
            "\n",
            "Train Epoch: 3 [0/50000 (0%)]\tLoss: 1.993683\n",
            "Train Epoch: 3 [12800/50000 (26%)]\tLoss: 1.967841\n",
            "Train Epoch: 3 [25600/50000 (51%)]\tLoss: 2.024856\n",
            "Train Epoch: 3 [38400/50000 (77%)]\tLoss: 2.068795\n",
            "\n",
            "Train set: Average loss: 1.8354, Accuracy: 14978/50000 (30.0%)\n",
            "\n",
            "\n",
            "Test set: Average loss: 1.7362, Accuracy: 3499/10000 (34.990%)\n",
            "\n",
            "Train Epoch: 4 [0/50000 (0%)]\tLoss: 1.855944\n",
            "Train Epoch: 4 [12800/50000 (26%)]\tLoss: 1.814941\n",
            "Train Epoch: 4 [25600/50000 (51%)]\tLoss: 1.766527\n",
            "Train Epoch: 4 [38400/50000 (77%)]\tLoss: 1.873007\n",
            "\n",
            "Train set: Average loss: 1.7821, Accuracy: 15785/50000 (31.6%)\n",
            "\n",
            "\n",
            "Test set: Average loss: 1.6378, Accuracy: 3770/10000 (37.700%)\n",
            "\n",
            "Train Epoch: 5 [0/50000 (0%)]\tLoss: 1.737246\n",
            "Train Epoch: 5 [12800/50000 (26%)]\tLoss: 1.776256\n",
            "Train Epoch: 5 [25600/50000 (51%)]\tLoss: 1.828341\n",
            "Train Epoch: 5 [38400/50000 (77%)]\tLoss: 1.753996\n",
            "\n",
            "Train set: Average loss: 1.7823, Accuracy: 16441/50000 (32.9%)\n",
            "\n",
            "\n",
            "Test set: Average loss: 1.6576, Accuracy: 3963/10000 (39.630%)\n",
            "\n",
            "Train Epoch: 6 [0/50000 (0%)]\tLoss: 1.831032\n",
            "Train Epoch: 6 [12800/50000 (26%)]\tLoss: 1.772262\n",
            "Train Epoch: 6 [25600/50000 (51%)]\tLoss: 1.909677\n",
            "Train Epoch: 6 [38400/50000 (77%)]\tLoss: 1.943692\n",
            "\n",
            "Train set: Average loss: 1.8593, Accuracy: 16615/50000 (33.2%)\n",
            "\n",
            "\n",
            "Test set: Average loss: 1.6390, Accuracy: 3977/10000 (39.770%)\n",
            "\n",
            "Train Epoch: 7 [0/50000 (0%)]\tLoss: 1.685374\n",
            "Train Epoch: 7 [12800/50000 (26%)]\tLoss: 1.682933\n",
            "Train Epoch: 7 [25600/50000 (51%)]\tLoss: 1.755041\n",
            "Train Epoch: 7 [38400/50000 (77%)]\tLoss: 1.931390\n",
            "\n",
            "Train set: Average loss: 1.6640, Accuracy: 16700/50000 (33.4%)\n",
            "\n",
            "\n",
            "Test set: Average loss: 1.6412, Accuracy: 3887/10000 (38.870%)\n",
            "\n",
            "Train Epoch: 8 [0/50000 (0%)]\tLoss: 1.711043\n",
            "Train Epoch: 8 [12800/50000 (26%)]\tLoss: 1.784945\n",
            "Train Epoch: 8 [25600/50000 (51%)]\tLoss: 1.814728\n",
            "Train Epoch: 8 [38400/50000 (77%)]\tLoss: 1.712578\n",
            "\n",
            "Train set: Average loss: 1.8373, Accuracy: 16793/50000 (33.6%)\n",
            "\n",
            "\n",
            "Test set: Average loss: 1.6206, Accuracy: 3945/10000 (39.450%)\n",
            "\n",
            "Train Epoch: 9 [0/50000 (0%)]\tLoss: 1.739915\n",
            "Train Epoch: 9 [12800/50000 (26%)]\tLoss: 1.747254\n",
            "Train Epoch: 9 [25600/50000 (51%)]\tLoss: 1.813390\n",
            "Train Epoch: 9 [38400/50000 (77%)]\tLoss: 1.741831\n",
            "\n",
            "Train set: Average loss: 1.6551, Accuracy: 17143/50000 (34.3%)\n",
            "\n",
            "\n",
            "Test set: Average loss: 1.6095, Accuracy: 4156/10000 (41.560%)\n",
            "\n",
            "Train Epoch: 10 [0/50000 (0%)]\tLoss: 1.803463\n",
            "Train Epoch: 10 [12800/50000 (26%)]\tLoss: 1.741103\n",
            "Train Epoch: 10 [25600/50000 (51%)]\tLoss: 1.656155\n",
            "Train Epoch: 10 [38400/50000 (77%)]\tLoss: 1.591975\n",
            "\n",
            "Train set: Average loss: 1.8263, Accuracy: 17260/50000 (34.5%)\n",
            "\n",
            "\n",
            "Test set: Average loss: 1.6401, Accuracy: 4009/10000 (40.090%)\n",
            "\n"
          ]
        }
      ],
      "source": [
        "cnn = CNN()\n",
        "optimizer = optim.SGD(cnn.parameters(), lr=0.1, momentum=0.9, weight_decay=5e-4)\n",
        "scheduler = torch.optim.lr_scheduler.CosineAnnealingLR(optimizer, T_max=200)\n",
        "\n",
        "epochs = 10\n",
        "for epoch in range(1, epochs + 1):\n",
        "    train(cnn, dl_train, optimizer, epoch, log_interval=100)\n",
        "    test(cnn, dl_test)    \n",
        "    scheduler.step()"
      ]
    },
    {
      "cell_type": "markdown",
      "metadata": {
        "id": "-VSaWkM7N4pn"
      },
      "source": [
        "This should give 40 - 50 % - and if you are not already on Colab it will give you a stressed out laptop. The performance is a lot better than random, but we can definitely do better."
      ]
    },
    {
      "cell_type": "markdown",
      "metadata": {
        "id": "W9CDmowiN4pn"
      },
      "source": [
        "### Have fun with GPUs\n",
        "You can already call it a day until this point because we won't grade the rest of the excecise. You can have more fun with the rest :)\n"
      ]
    },
    {
      "cell_type": "markdown",
      "metadata": {
        "id": "CnRAkfuJN4pn"
      },
      "source": [
        "\n",
        "If you didn't already, move to colab. To use a GPU, follow on the collaboratory menu tabs, \"Runtime\" => \"Change runtime type\" and set it to GPU. Then run the same training loop but now on GPU. \n",
        "\n",
        "It as easy as:"
      ]
    },
    {
      "cell_type": "code",
      "execution_count": null,
      "metadata": {
        "colab": {
          "base_uri": "https://localhost:8080/"
        },
        "id": "KLbaKhF1N4po",
        "outputId": "053b5f8d-03f9-4c2e-95cf-ec168fbfb661"
      },
      "outputs": [
        {
          "output_type": "stream",
          "name": "stderr",
          "text": [
            "/usr/local/lib/python3.7/dist-packages/torch/utils/data/dataloader.py:566: UserWarning: This DataLoader will create 4 worker processes in total. Our suggested max number of worker in current system is 2, which is smaller than what this DataLoader is going to create. Please be aware that excessive worker creation might get DataLoader running slow or even freeze, lower the worker number to avoid potential slowness/freeze if necessary.\n",
            "  cpuset_checked))\n"
          ]
        },
        {
          "output_type": "stream",
          "name": "stdout",
          "text": [
            "Train Epoch: 1 [0/50000 (0%)]\tLoss: 2.303998\n",
            "Train Epoch: 1 [12800/50000 (26%)]\tLoss: 2.126746\n",
            "Train Epoch: 1 [25600/50000 (51%)]\tLoss: 2.049870\n",
            "Train Epoch: 1 [38400/50000 (77%)]\tLoss: 1.911690\n",
            "\n",
            "Train set: Average loss: 1.8790, Accuracy: 11932/50000 (23.9%)\n",
            "\n",
            "\n",
            "Test set: Average loss: 1.7723, Accuracy: 3328/10000 (33.280%)\n",
            "\n",
            "Train Epoch: 2 [0/50000 (0%)]\tLoss: 1.852590\n",
            "Train Epoch: 2 [12800/50000 (26%)]\tLoss: 1.930224\n",
            "Train Epoch: 2 [25600/50000 (51%)]\tLoss: 1.862453\n",
            "Train Epoch: 2 [38400/50000 (77%)]\tLoss: 1.819088\n",
            "\n",
            "Train set: Average loss: 1.8961, Accuracy: 14665/50000 (29.3%)\n",
            "\n",
            "\n",
            "Test set: Average loss: 1.7550, Accuracy: 3340/10000 (33.400%)\n",
            "\n",
            "Train Epoch: 3 [0/50000 (0%)]\tLoss: 1.965615\n",
            "Train Epoch: 3 [12800/50000 (26%)]\tLoss: 1.840636\n",
            "Train Epoch: 3 [25600/50000 (51%)]\tLoss: 1.854501\n",
            "Train Epoch: 3 [38400/50000 (77%)]\tLoss: 1.797744\n",
            "\n",
            "Train set: Average loss: 1.6787, Accuracy: 15740/50000 (31.5%)\n",
            "\n",
            "\n",
            "Test set: Average loss: 1.6153, Accuracy: 3959/10000 (39.590%)\n",
            "\n",
            "Train Epoch: 4 [0/50000 (0%)]\tLoss: 1.865671\n",
            "Train Epoch: 4 [12800/50000 (26%)]\tLoss: 1.827535\n",
            "Train Epoch: 4 [25600/50000 (51%)]\tLoss: 1.733094\n",
            "Train Epoch: 4 [38400/50000 (77%)]\tLoss: 1.941891\n",
            "\n",
            "Train set: Average loss: 1.7884, Accuracy: 16324/50000 (32.6%)\n",
            "\n",
            "\n",
            "Test set: Average loss: 1.7397, Accuracy: 3853/10000 (38.530%)\n",
            "\n",
            "Train Epoch: 5 [0/50000 (0%)]\tLoss: 1.823211\n",
            "Train Epoch: 5 [12800/50000 (26%)]\tLoss: 1.703576\n",
            "Train Epoch: 5 [25600/50000 (51%)]\tLoss: 1.768846\n",
            "Train Epoch: 5 [38400/50000 (77%)]\tLoss: 1.627126\n",
            "\n",
            "Train set: Average loss: 1.8866, Accuracy: 16763/50000 (33.5%)\n",
            "\n",
            "\n",
            "Test set: Average loss: 1.6193, Accuracy: 4083/10000 (40.830%)\n",
            "\n",
            "Train Epoch: 6 [0/50000 (0%)]\tLoss: 1.730593\n",
            "Train Epoch: 6 [12800/50000 (26%)]\tLoss: 1.824965\n",
            "Train Epoch: 6 [25600/50000 (51%)]\tLoss: 1.697260\n",
            "Train Epoch: 6 [38400/50000 (77%)]\tLoss: 1.653283\n",
            "\n",
            "Train set: Average loss: 1.9821, Accuracy: 17410/50000 (34.8%)\n",
            "\n",
            "\n",
            "Test set: Average loss: 1.6353, Accuracy: 3923/10000 (39.230%)\n",
            "\n",
            "Train Epoch: 7 [0/50000 (0%)]\tLoss: 1.796764\n",
            "Train Epoch: 7 [12800/50000 (26%)]\tLoss: 1.750559\n",
            "Train Epoch: 7 [25600/50000 (51%)]\tLoss: 1.674093\n",
            "Train Epoch: 7 [38400/50000 (77%)]\tLoss: 1.761090\n",
            "\n",
            "Train set: Average loss: 1.6992, Accuracy: 17525/50000 (35.0%)\n",
            "\n",
            "\n",
            "Test set: Average loss: 1.5690, Accuracy: 4290/10000 (42.900%)\n",
            "\n",
            "Train Epoch: 8 [0/50000 (0%)]\tLoss: 1.613380\n",
            "Train Epoch: 8 [12800/50000 (26%)]\tLoss: 1.612154\n",
            "Train Epoch: 8 [25600/50000 (51%)]\tLoss: 1.896615\n",
            "Train Epoch: 8 [38400/50000 (77%)]\tLoss: 1.634754\n",
            "\n",
            "Train set: Average loss: 1.7807, Accuracy: 17730/50000 (35.5%)\n",
            "\n",
            "\n",
            "Test set: Average loss: 1.5605, Accuracy: 4220/10000 (42.200%)\n",
            "\n",
            "Train Epoch: 9 [0/50000 (0%)]\tLoss: 1.672722\n",
            "Train Epoch: 9 [12800/50000 (26%)]\tLoss: 1.726423\n",
            "Train Epoch: 9 [25600/50000 (51%)]\tLoss: 1.722908\n",
            "Train Epoch: 9 [38400/50000 (77%)]\tLoss: 1.597478\n",
            "\n",
            "Train set: Average loss: 1.7853, Accuracy: 18023/50000 (36.0%)\n",
            "\n",
            "\n",
            "Test set: Average loss: 1.5543, Accuracy: 4317/10000 (43.170%)\n",
            "\n",
            "Train Epoch: 10 [0/50000 (0%)]\tLoss: 1.817427\n",
            "Train Epoch: 10 [12800/50000 (26%)]\tLoss: 1.814348\n",
            "Train Epoch: 10 [25600/50000 (51%)]\tLoss: 1.774257\n",
            "Train Epoch: 10 [38400/50000 (77%)]\tLoss: 2.025859\n",
            "\n",
            "Train set: Average loss: 1.7974, Accuracy: 17837/50000 (35.7%)\n",
            "\n",
            "\n",
            "Test set: Average loss: 1.4935, Accuracy: 4499/10000 (44.990%)\n",
            "\n"
          ]
        }
      ],
      "source": [
        "device = 'cuda'\n",
        "if device == 'cuda': torch.backends.cudnn.benchmark = True # additional speed up\n",
        "\n",
        "cnn = CNN()\n",
        "optimizer = optim.SGD(cnn.parameters(), lr=0.1, momentum=0.9, weight_decay=5e-4)\n",
        "scheduler = torch.optim.lr_scheduler.CosineAnnealingLR(optimizer, T_max=200)\n",
        "cnn = cnn.to(device)\n",
        "\n",
        "epochs = 10\n",
        "for epoch in range(1, epochs + 1):\n",
        "    train(cnn, dl_train, optimizer, epoch, log_interval=100, device=device)\n",
        "    test(cnn, dl_test, device=device)    \n",
        "    scheduler.step()"
      ]
    },
    {
      "cell_type": "markdown",
      "metadata": {
        "id": "uF5a-jJLN4po"
      },
      "source": [
        "This should be way faster now. But the true advantage of the GPU is that we can use much bigger models now and still train them in a reasonable amount of time. PyTorch is again very handy. The torchvision library comes with varies state-of-the-art model architectures, some of which you have seen in the lecture."
      ]
    },
    {
      "cell_type": "code",
      "execution_count": null,
      "metadata": {
        "id": "KT7EBK8EN4po"
      },
      "outputs": [],
      "source": [
        "from torchvision.models import resnet18"
      ]
    },
    {
      "cell_type": "code",
      "execution_count": null,
      "metadata": {
        "scrolled": true,
        "id": "umpkibNPN4po"
      },
      "outputs": [],
      "source": [
        "cnn = resnet18()\n",
        "print(cnn)"
      ]
    },
    {
      "cell_type": "markdown",
      "metadata": {
        "id": "Gf4KKvSPN4po"
      },
      "source": [
        "Looks scary! But the only thing you need to change to make it work on CIFAR is the last layer.\n",
        "Currently the last layer is:\n",
        "```\n",
        "  (fc): Linear(in_features=512, out_features=1000, bias=True)\n",
        "```\n",
        "out_features is the number of classes. This models are developed for Imagenet, a dataset with 1000 classes. So this part of the model you need to adapt. Additionally, you need to add a log-softmax layer again, as we us negative log-likelihood as the training criterion. "
      ]
    },
    {
      "cell_type": "code",
      "execution_count": null,
      "metadata": {
        "id": "AdAMCSPhN4po"
      },
      "outputs": [],
      "source": [
        "#########################################################################\n",
        "# TODO: Adapt the Resnet to work on CIFAR\n",
        "#########################################################################\n"
      ]
    },
    {
      "cell_type": "code",
      "execution_count": null,
      "metadata": {
        "id": "c967YX_4N4po"
      },
      "outputs": [],
      "source": [
        "# This should print 'torch.Size([16, 10])'\n",
        "cnn(torch.randn(16,3,32,32)).shape"
      ]
    },
    {
      "cell_type": "code",
      "execution_count": null,
      "metadata": {
        "id": "zMdmvr2CN4po"
      },
      "outputs": [],
      "source": [
        "device = 'cuda'\n",
        "if device == 'cuda': torch.backends.cudnn.benchmark = True # this gives us additional speed up\n",
        "\n",
        "optimizer = optim.SGD(cnn.parameters(), lr=0.1, momentum=0.9, weight_decay=5e-4)\n",
        "scheduler = torch.optim.lr_scheduler.CosineAnnealingLR(optimizer, T_max=200)\n",
        "cnn = cnn.to(device)\n",
        "\n",
        "epochs = 50\n",
        "for epoch in range(1, epochs + 1):\n",
        "    train(cnn, dl_train, optimizer, epoch, log_interval=100, device=device)\n",
        "    test(cnn, dl_test, device=device)    \n",
        "    scheduler.step()"
      ]
    },
    {
      "cell_type": "markdown",
      "metadata": {
        "id": "T9hrJJ_MN4pp"
      },
      "source": [
        "This should get us well above 75%, the best we got was ~ 80%.\n",
        "\n",
        "Now, use different torchvision architectures, different optimizers (Adam is always a good choice), data augmentation techniques, and hyperparameter search to achieve a test accuracy of >90 %"
      ]
    },
    {
      "cell_type": "code",
      "execution_count": null,
      "metadata": {
        "id": "Rzb2XhrON4pp"
      },
      "outputs": [],
      "source": []
    }
  ],
  "metadata": {
    "kernelspec": {
      "display_name": "Python 3.9.13 ('dl4cv')",
      "language": "python",
      "name": "python3"
    },
    "language_info": {
      "codemirror_mode": {
        "name": "ipython",
        "version": 3
      },
      "file_extension": ".py",
      "mimetype": "text/x-python",
      "name": "python",
      "nbconvert_exporter": "python",
      "pygments_lexer": "ipython3",
      "version": "3.9.13"
    },
    "vscode": {
      "interpreter": {
        "hash": "eb64fe239699e9fcff755696fff850faaecbb51eb4d3c578df5a69e0eccfe48d"
      }
    },
    "colab": {
      "provenance": [],
      "collapsed_sections": [
        "RJ3kupjeN4pk"
      ]
    },
    "accelerator": "GPU",
    "widgets": {
      "application/vnd.jupyter.widget-state+json": {
        "ec464aa3541a420990385cd404994ec2": {
          "model_module": "@jupyter-widgets/controls",
          "model_name": "HBoxModel",
          "model_module_version": "1.5.0",
          "state": {
            "_dom_classes": [],
            "_model_module": "@jupyter-widgets/controls",
            "_model_module_version": "1.5.0",
            "_model_name": "HBoxModel",
            "_view_count": null,
            "_view_module": "@jupyter-widgets/controls",
            "_view_module_version": "1.5.0",
            "_view_name": "HBoxView",
            "box_style": "",
            "children": [
              "IPY_MODEL_d0144ec9215f4b06a19dcb82b6352fbc",
              "IPY_MODEL_ac8293180a4247ba90110d9e7d718b6d",
              "IPY_MODEL_ca0759af76f04ef0ada3b5f49fc64eb2"
            ],
            "layout": "IPY_MODEL_1ff3fdb107c74519ac1d951d9daea6d6"
          }
        },
        "d0144ec9215f4b06a19dcb82b6352fbc": {
          "model_module": "@jupyter-widgets/controls",
          "model_name": "HTMLModel",
          "model_module_version": "1.5.0",
          "state": {
            "_dom_classes": [],
            "_model_module": "@jupyter-widgets/controls",
            "_model_module_version": "1.5.0",
            "_model_name": "HTMLModel",
            "_view_count": null,
            "_view_module": "@jupyter-widgets/controls",
            "_view_module_version": "1.5.0",
            "_view_name": "HTMLView",
            "description": "",
            "description_tooltip": null,
            "layout": "IPY_MODEL_6f7af06b466d46c18dcae94b664d1e00",
            "placeholder": "​",
            "style": "IPY_MODEL_104037f093f644aa99215fcd1d189b5c",
            "value": "100%"
          }
        },
        "ac8293180a4247ba90110d9e7d718b6d": {
          "model_module": "@jupyter-widgets/controls",
          "model_name": "FloatProgressModel",
          "model_module_version": "1.5.0",
          "state": {
            "_dom_classes": [],
            "_model_module": "@jupyter-widgets/controls",
            "_model_module_version": "1.5.0",
            "_model_name": "FloatProgressModel",
            "_view_count": null,
            "_view_module": "@jupyter-widgets/controls",
            "_view_module_version": "1.5.0",
            "_view_name": "ProgressView",
            "bar_style": "success",
            "description": "",
            "description_tooltip": null,
            "layout": "IPY_MODEL_9309305f174d4e789af139ced8021754",
            "max": 170498071,
            "min": 0,
            "orientation": "horizontal",
            "style": "IPY_MODEL_a81015cf5d0a4b3994fda1a0c9c963b7",
            "value": 170498071
          }
        },
        "ca0759af76f04ef0ada3b5f49fc64eb2": {
          "model_module": "@jupyter-widgets/controls",
          "model_name": "HTMLModel",
          "model_module_version": "1.5.0",
          "state": {
            "_dom_classes": [],
            "_model_module": "@jupyter-widgets/controls",
            "_model_module_version": "1.5.0",
            "_model_name": "HTMLModel",
            "_view_count": null,
            "_view_module": "@jupyter-widgets/controls",
            "_view_module_version": "1.5.0",
            "_view_name": "HTMLView",
            "description": "",
            "description_tooltip": null,
            "layout": "IPY_MODEL_6fe4b60608d74f0dbf8869f36f1fc702",
            "placeholder": "​",
            "style": "IPY_MODEL_54613ca9d394434b94eafc4cf5b7d309",
            "value": " 170498071/170498071 [00:05&lt;00:00, 32605810.88it/s]"
          }
        },
        "1ff3fdb107c74519ac1d951d9daea6d6": {
          "model_module": "@jupyter-widgets/base",
          "model_name": "LayoutModel",
          "model_module_version": "1.2.0",
          "state": {
            "_model_module": "@jupyter-widgets/base",
            "_model_module_version": "1.2.0",
            "_model_name": "LayoutModel",
            "_view_count": null,
            "_view_module": "@jupyter-widgets/base",
            "_view_module_version": "1.2.0",
            "_view_name": "LayoutView",
            "align_content": null,
            "align_items": null,
            "align_self": null,
            "border": null,
            "bottom": null,
            "display": null,
            "flex": null,
            "flex_flow": null,
            "grid_area": null,
            "grid_auto_columns": null,
            "grid_auto_flow": null,
            "grid_auto_rows": null,
            "grid_column": null,
            "grid_gap": null,
            "grid_row": null,
            "grid_template_areas": null,
            "grid_template_columns": null,
            "grid_template_rows": null,
            "height": null,
            "justify_content": null,
            "justify_items": null,
            "left": null,
            "margin": null,
            "max_height": null,
            "max_width": null,
            "min_height": null,
            "min_width": null,
            "object_fit": null,
            "object_position": null,
            "order": null,
            "overflow": null,
            "overflow_x": null,
            "overflow_y": null,
            "padding": null,
            "right": null,
            "top": null,
            "visibility": null,
            "width": null
          }
        },
        "6f7af06b466d46c18dcae94b664d1e00": {
          "model_module": "@jupyter-widgets/base",
          "model_name": "LayoutModel",
          "model_module_version": "1.2.0",
          "state": {
            "_model_module": "@jupyter-widgets/base",
            "_model_module_version": "1.2.0",
            "_model_name": "LayoutModel",
            "_view_count": null,
            "_view_module": "@jupyter-widgets/base",
            "_view_module_version": "1.2.0",
            "_view_name": "LayoutView",
            "align_content": null,
            "align_items": null,
            "align_self": null,
            "border": null,
            "bottom": null,
            "display": null,
            "flex": null,
            "flex_flow": null,
            "grid_area": null,
            "grid_auto_columns": null,
            "grid_auto_flow": null,
            "grid_auto_rows": null,
            "grid_column": null,
            "grid_gap": null,
            "grid_row": null,
            "grid_template_areas": null,
            "grid_template_columns": null,
            "grid_template_rows": null,
            "height": null,
            "justify_content": null,
            "justify_items": null,
            "left": null,
            "margin": null,
            "max_height": null,
            "max_width": null,
            "min_height": null,
            "min_width": null,
            "object_fit": null,
            "object_position": null,
            "order": null,
            "overflow": null,
            "overflow_x": null,
            "overflow_y": null,
            "padding": null,
            "right": null,
            "top": null,
            "visibility": null,
            "width": null
          }
        },
        "104037f093f644aa99215fcd1d189b5c": {
          "model_module": "@jupyter-widgets/controls",
          "model_name": "DescriptionStyleModel",
          "model_module_version": "1.5.0",
          "state": {
            "_model_module": "@jupyter-widgets/controls",
            "_model_module_version": "1.5.0",
            "_model_name": "DescriptionStyleModel",
            "_view_count": null,
            "_view_module": "@jupyter-widgets/base",
            "_view_module_version": "1.2.0",
            "_view_name": "StyleView",
            "description_width": ""
          }
        },
        "9309305f174d4e789af139ced8021754": {
          "model_module": "@jupyter-widgets/base",
          "model_name": "LayoutModel",
          "model_module_version": "1.2.0",
          "state": {
            "_model_module": "@jupyter-widgets/base",
            "_model_module_version": "1.2.0",
            "_model_name": "LayoutModel",
            "_view_count": null,
            "_view_module": "@jupyter-widgets/base",
            "_view_module_version": "1.2.0",
            "_view_name": "LayoutView",
            "align_content": null,
            "align_items": null,
            "align_self": null,
            "border": null,
            "bottom": null,
            "display": null,
            "flex": null,
            "flex_flow": null,
            "grid_area": null,
            "grid_auto_columns": null,
            "grid_auto_flow": null,
            "grid_auto_rows": null,
            "grid_column": null,
            "grid_gap": null,
            "grid_row": null,
            "grid_template_areas": null,
            "grid_template_columns": null,
            "grid_template_rows": null,
            "height": null,
            "justify_content": null,
            "justify_items": null,
            "left": null,
            "margin": null,
            "max_height": null,
            "max_width": null,
            "min_height": null,
            "min_width": null,
            "object_fit": null,
            "object_position": null,
            "order": null,
            "overflow": null,
            "overflow_x": null,
            "overflow_y": null,
            "padding": null,
            "right": null,
            "top": null,
            "visibility": null,
            "width": null
          }
        },
        "a81015cf5d0a4b3994fda1a0c9c963b7": {
          "model_module": "@jupyter-widgets/controls",
          "model_name": "ProgressStyleModel",
          "model_module_version": "1.5.0",
          "state": {
            "_model_module": "@jupyter-widgets/controls",
            "_model_module_version": "1.5.0",
            "_model_name": "ProgressStyleModel",
            "_view_count": null,
            "_view_module": "@jupyter-widgets/base",
            "_view_module_version": "1.2.0",
            "_view_name": "StyleView",
            "bar_color": null,
            "description_width": ""
          }
        },
        "6fe4b60608d74f0dbf8869f36f1fc702": {
          "model_module": "@jupyter-widgets/base",
          "model_name": "LayoutModel",
          "model_module_version": "1.2.0",
          "state": {
            "_model_module": "@jupyter-widgets/base",
            "_model_module_version": "1.2.0",
            "_model_name": "LayoutModel",
            "_view_count": null,
            "_view_module": "@jupyter-widgets/base",
            "_view_module_version": "1.2.0",
            "_view_name": "LayoutView",
            "align_content": null,
            "align_items": null,
            "align_self": null,
            "border": null,
            "bottom": null,
            "display": null,
            "flex": null,
            "flex_flow": null,
            "grid_area": null,
            "grid_auto_columns": null,
            "grid_auto_flow": null,
            "grid_auto_rows": null,
            "grid_column": null,
            "grid_gap": null,
            "grid_row": null,
            "grid_template_areas": null,
            "grid_template_columns": null,
            "grid_template_rows": null,
            "height": null,
            "justify_content": null,
            "justify_items": null,
            "left": null,
            "margin": null,
            "max_height": null,
            "max_width": null,
            "min_height": null,
            "min_width": null,
            "object_fit": null,
            "object_position": null,
            "order": null,
            "overflow": null,
            "overflow_x": null,
            "overflow_y": null,
            "padding": null,
            "right": null,
            "top": null,
            "visibility": null,
            "width": null
          }
        },
        "54613ca9d394434b94eafc4cf5b7d309": {
          "model_module": "@jupyter-widgets/controls",
          "model_name": "DescriptionStyleModel",
          "model_module_version": "1.5.0",
          "state": {
            "_model_module": "@jupyter-widgets/controls",
            "_model_module_version": "1.5.0",
            "_model_name": "DescriptionStyleModel",
            "_view_count": null,
            "_view_module": "@jupyter-widgets/base",
            "_view_module_version": "1.2.0",
            "_view_name": "StyleView",
            "description_width": ""
          }
        }
      }
    }
  },
  "nbformat": 4,
  "nbformat_minor": 0
}