{
 "cells": [
  {
   "cell_type": "markdown",
   "metadata": {},
   "source": [
    "# Point Cloud Binary Classification with PyTorch"
   ]
  },
  {
   "cell_type": "markdown",
   "metadata": {},
   "source": [
    "Make sure you are using the `dl4cv` conda environment."
   ]
  },
  {
   "cell_type": "markdown",
   "metadata": {},
   "source": [
    "## Dataset loading and visualization"
   ]
  },
  {
   "cell_type": "markdown",
   "metadata": {},
   "source": [
    "The input X contain 100 2D points, and y are their corresponding labels (0 or 1). The goal is to train a model that can classify every point to its correct label.\n"
   ]
  },
  {
   "cell_type": "code",
   "execution_count": 1,
   "metadata": {},
   "outputs": [
    {
     "data": {
      "image/png": "[encoded data removed]",
      "text/plain": [
       "<Figure size 432x288 with 1 Axes>"
      ]
     },
     "metadata": {
      "needs_background": "light"
     },
     "output_type": "display_data"
    },
    {
     "data": {
      "text/plain": [
       "<Figure size 432x288 with 0 Axes>"
      ]
     },
     "metadata": {},
     "output_type": "display_data"
    }
   ],
   "source": [
    "%matplotlib inline\n",
    "import matplotlib.pyplot as plt\n",
    "import numpy as np\n",
    "import torch\n",
    "import torch.nn as nn\n",
    "import torch.nn.functional as F\n",
    "import torch.optim as optim\n",
    "from torch.utils.data import Dataset\n",
    "from torch.utils.data import DataLoader\n",
    "from torch.optim import Adam\n",
    "\n",
    "dataset = np.load('data/2d_pcl_dataset.npz')\n",
    "X, y = dataset['X'], dataset['y']\n",
    "\n",
    "X0 = X[y==0] # 50 2D points have label 0\n",
    "X1 = X[y==1] # 50 2D points have label 1\n",
    "\n",
    "def plot(X0, X1, fit_param=None):\n",
    "    plt.scatter(X0[:,0], X0[:,1], color='red', label=0)\n",
    "    plt.scatter(X1[:,0], X1[:,1], color='blue', label=1)\n",
    "    \n",
    "    plt.xlim([-0.55, 0.55])\n",
    "    plt.ylim([-0.35, 0.25])\n",
    "    plt.legend()\n",
    "    plt.show()\n",
    "    plt.clf()\n",
    "\n",
    "plot(X0, X1)"
   ]
  },
  {
   "cell_type": "markdown",
   "metadata": {},
   "source": [
    "## Logistic Regression for the point cloud classification task\n"
   ]
  },
  {
   "cell_type": "markdown",
   "metadata": {},
   "source": [
    "Starting by filling in the `Simple2DDataset` class below. First, in the class constructore `__init__`, you will need to read the right `2d_pcl_dataset.npz` from disk.\n",
    "\n",
    "Second, in the `__getitem__`, you will need to take a single data point and its label based on its index `idx`"
   ]
  },
  {
   "cell_type": "code",
   "execution_count": 24,
   "metadata": {},
   "outputs": [],
   "source": [
    "class Simple2DDataset(Dataset):\n",
    "    def __init__(self):\n",
    "        super().__init__()\n",
    "        #########################################################################\n",
    "        # TODO: read data from disk using np.load.\n",
    "        # Data is located in the folder \"data\".\n",
    "        # Save samples and labels to class members self.X and self.y respectively.\n",
    "        # samples should be an Nx2 numpy array. Labels should be Nx1.\n",
    "        #########################################################################\n",
    "        dataset = np.load('data/2d_pcl_dataset.npz')\n",
    "        self.X = dataset['X']\n",
    "        self.y = dataset['y']\n",
    "     \n",
    "    def __len__(self):\n",
    "        # Returns the number of samples in the dataset.\n",
    "        return self.X.shape[0]\n",
    "    \n",
    "    def __getitem__(self, idx):\n",
    "        #########################################################################\n",
    "        # TODO: return the sample and label with index idx\n",
    "        #########################################################################\n",
    "        point = self.X[idx]\n",
    "        label = self.y[idx]\n",
    "        \n",
    "        # Convert to tensor.\n",
    "        return torch.from_numpy(point).float(), \\\n",
    "               torch.from_numpy(label[np.newaxis]).float()\n"
   ]
  },
  {
   "cell_type": "markdown",
   "metadata": {},
   "source": [
    "With the complete `Simple2DDataset`, we can create a PyTorch dataloader\n",
    "\n",
    "**NOTE**: if you encounter some unexpected errors in data loading, try setting `NUM_WORKERS = 0`"
   ]
  },
  {
   "cell_type": "code",
   "execution_count": 25,
   "metadata": {},
   "outputs": [],
   "source": [
    "BATCH_SIZE = 8\n",
    "NUM_WORKERS = 0\n",
    "\n",
    "# create the dataloader\n",
    "dataset = Simple2DDataset()\n",
    "train_dataloader = DataLoader(\n",
    "    dataset,\n",
    "    batch_size=BATCH_SIZE,\n",
    "    num_workers=NUM_WORKERS,\n",
    "    shuffle=True\n",
    ")"
   ]
  },
  {
   "cell_type": "markdown",
   "metadata": {},
   "source": [
    "Now, define your first network by filling in the `LinearClassifier` class below.\n",
    "\n",
    "Add a single linear layer `nn.Linear` inside the `nn.Sequential` call. The input is 2D, and the output should be a single value, corresponding to the probability of a given 2D point being part of cluster 0."
   ]
  },
  {
   "cell_type": "code",
   "execution_count": 26,
   "metadata": {},
   "outputs": [],
   "source": [
    "class LinearClassifier(nn.Module):\n",
    "    def __init__(self):\n",
    "        super().__init__()\n",
    "\n",
    "        self.codename = 'linear'\n",
    "\n",
    "        #########################################################################\n",
    "        # TODO: add a single linear layer with nn.Linear, inside the `nn.Sequential` call.\n",
    "        # Input is 2D.\n",
    "        # Output is a single value.\n",
    "        #########################################################################\n",
    "        self.model = nn.Sequential(nn.Linear(2, 1))\n",
    "        \n",
    "    def forward(self, batch):\n",
    "        # Process batch using the defined model.\n",
    "        x = self.model(batch)\n",
    "        # Final sigmoid activation to obtain a probability between 0 and 1.\n",
    "        return torch.sigmoid(x)"
   ]
  },
  {
   "cell_type": "markdown",
   "metadata": {},
   "source": [
    "Now, you are asked to implement the training loop below"
   ]
  },
  {
   "cell_type": "code",
   "execution_count": 27,
   "metadata": {},
   "outputs": [],
   "source": [
    "def train(net, optimizer, dataloader, epoch):\n",
    "    net.train()\n",
    "    loss_sum = 0\n",
    "    for batch_idx, (point, label) in enumerate(dataloader):\n",
    "        # First we need to zero the gradient, otherwise PyTorch would accumulate them\n",
    "        optimizer.zero_grad()\n",
    "\n",
    "        #########################################################################\n",
    "        #TODO: \n",
    "        # 1. forward pass of the network to obtain the predictions given the batch\n",
    "        # 2. compute the loss using F.binary_cross_entropy\n",
    "        # 3. backward pass on the loss using loss.backward(), and one step \n",
    "        # of gradient descent (optimization) using optimizer.step()\n",
    "        #########################################################################\n",
    "        pred_y = net.forward(point)\n",
    "        loss = F.binary_cross_entropy(pred_y, label)\n",
    "        loss.backward()\n",
    "        optimizer.step()\n",
    "        loss_sum += loss\n",
    "    return loss_sum\n",
    "        "
   ]
  },
  {
   "cell_type": "markdown",
   "metadata": {},
   "source": [
    "You can now run below to train the linear model."
   ]
  },
  {
   "cell_type": "code",
   "execution_count": 28,
   "metadata": {
    "scrolled": true,
    "tags": []
   },
   "outputs": [
    {
     "name": "stdout",
     "output_type": "stream",
     "text": [
      "[Epoch 01] Loss: 8.1637\n",
      "[Epoch 02] Loss: 6.5693\n",
      "[Epoch 03] Loss: 5.5840\n",
      "[Epoch 04] Loss: 5.1440\n",
      "[Epoch 05] Loss: 4.6896\n",
      "[Epoch 06] Loss: 4.4740\n",
      "[Epoch 07] Loss: 4.3339\n",
      "[Epoch 08] Loss: 4.2467\n",
      "[Epoch 09] Loss: 4.0991\n",
      "[Epoch 10] Loss: 4.1613\n",
      "[Epoch 11] Loss: 4.0490\n",
      "[Epoch 12] Loss: 4.0502\n",
      "[Epoch 13] Loss: 3.9335\n",
      "[Epoch 14] Loss: 3.7558\n",
      "[Epoch 15] Loss: 3.8118\n",
      "[Epoch 16] Loss: 3.8240\n",
      "[Epoch 17] Loss: 3.7103\n",
      "[Epoch 18] Loss: 3.6231\n",
      "[Epoch 19] Loss: 3.6117\n",
      "[Epoch 20] Loss: 3.8670\n",
      "[Epoch 21] Loss: 3.6237\n",
      "[Epoch 22] Loss: 3.5305\n",
      "[Epoch 23] Loss: 3.5887\n",
      "[Epoch 24] Loss: 3.5455\n",
      "[Epoch 25] Loss: 3.5060\n",
      "[Epoch 26] Loss: 3.5378\n",
      "[Epoch 27] Loss: 3.5187\n",
      "[Epoch 28] Loss: 3.8685\n",
      "[Epoch 29] Loss: 3.6196\n",
      "[Epoch 30] Loss: 3.5919\n",
      "[Epoch 31] Loss: 3.8193\n",
      "[Epoch 32] Loss: 3.8273\n",
      "[Epoch 33] Loss: 3.4814\n",
      "[Epoch 34] Loss: 3.6194\n",
      "[Epoch 35] Loss: 3.5034\n",
      "[Epoch 36] Loss: 3.4594\n",
      "[Epoch 37] Loss: 3.4577\n",
      "[Epoch 38] Loss: 3.5639\n",
      "[Epoch 39] Loss: 3.6115\n",
      "[Epoch 40] Loss: 3.6080\n",
      "[Epoch 41] Loss: 3.8437\n",
      "[Epoch 42] Loss: 3.7952\n",
      "[Epoch 43] Loss: 3.6854\n",
      "[Epoch 44] Loss: 3.5349\n",
      "[Epoch 45] Loss: 3.4942\n",
      "[Epoch 46] Loss: 3.5371\n",
      "[Epoch 47] Loss: 3.4709\n",
      "[Epoch 48] Loss: 3.4673\n",
      "[Epoch 49] Loss: 3.4776\n",
      "[Epoch 50] Loss: 3.4852\n",
      "[Epoch 51] Loss: 3.8401\n",
      "[Epoch 52] Loss: 3.8793\n",
      "[Epoch 53] Loss: 3.4493\n",
      "[Epoch 54] Loss: 3.5424\n",
      "[Epoch 55] Loss: 3.4895\n",
      "[Epoch 56] Loss: 3.5412\n",
      "[Epoch 57] Loss: 3.6160\n",
      "[Epoch 58] Loss: 3.7216\n",
      "[Epoch 59] Loss: 3.4737\n",
      "[Epoch 60] Loss: 3.4658\n",
      "[Epoch 61] Loss: 3.4912\n",
      "[Epoch 62] Loss: 3.5355\n",
      "[Epoch 63] Loss: 3.6662\n",
      "[Epoch 64] Loss: 3.7989\n",
      "[Epoch 65] Loss: 3.4518\n",
      "[Epoch 66] Loss: 3.4707\n",
      "[Epoch 67] Loss: 3.5248\n",
      "[Epoch 68] Loss: 3.4450\n",
      "[Epoch 69] Loss: 3.6269\n",
      "[Epoch 70] Loss: 3.7850\n",
      "[Epoch 71] Loss: 3.6285\n",
      "[Epoch 72] Loss: 3.6890\n",
      "[Epoch 73] Loss: 3.6210\n",
      "[Epoch 74] Loss: 3.8260\n",
      "[Epoch 75] Loss: 3.4863\n",
      "[Epoch 76] Loss: 3.4912\n",
      "[Epoch 77] Loss: 3.4692\n",
      "[Epoch 78] Loss: 3.4859\n",
      "[Epoch 79] Loss: 3.5116\n",
      "[Epoch 80] Loss: 3.6575\n",
      "[Epoch 81] Loss: 3.4733\n",
      "[Epoch 82] Loss: 3.5779\n",
      "[Epoch 83] Loss: 3.8715\n",
      "[Epoch 84] Loss: 3.7262\n",
      "[Epoch 85] Loss: 3.7991\n",
      "[Epoch 86] Loss: 4.0195\n",
      "[Epoch 87] Loss: 3.5142\n",
      "[Epoch 88] Loss: 3.6963\n",
      "[Epoch 89] Loss: 3.4812\n",
      "[Epoch 90] Loss: 3.9018\n",
      "[Epoch 91] Loss: 3.6560\n",
      "[Epoch 92] Loss: 3.4915\n",
      "[Epoch 93] Loss: 3.5644\n",
      "[Epoch 94] Loss: 4.0074\n",
      "[Epoch 95] Loss: 3.5436\n",
      "[Epoch 96] Loss: 3.5468\n",
      "[Epoch 97] Loss: 3.7065\n",
      "[Epoch 98] Loss: 3.4459\n",
      "[Epoch 99] Loss: 3.5893\n",
      "[Epoch 100] Loss: 3.4404\n"
     ]
    }
   ],
   "source": [
    "NUM_EPOCHS = 100\n",
    "# create the network.\n",
    "net = LinearClassifier()\n",
    "\n",
    "# create the optimizer.\n",
    "optimizer = Adam(net.parameters(), lr=0.1)\n",
    "\n",
    "best_accuracy = 0\n",
    "for epoch_idx in range(NUM_EPOCHS):\n",
    "    loss = train(net, optimizer, train_dataloader, epoch_idx)\n",
    "    print('[Epoch %02d] Loss: %.4f' % (epoch_idx + 1, loss))"
   ]
  },
  {
   "cell_type": "markdown",
   "metadata": {},
   "source": [
    "Now plot your result below.\n"
   ]
  },
  {
   "cell_type": "code",
   "execution_count": 29,
   "metadata": {},
   "outputs": [
    {
     "data": {
      "image/png": "[encoded data removed]",
      "text/plain": [
       "<Figure size 432x288 with 1 Axes>"
      ]
     },
     "metadata": {
      "needs_background": "light"
     },
     "output_type": "display_data"
    },
    {
     "data": {
      "text/plain": [
       "<Figure size 432x288 with 0 Axes>"
      ]
     },
     "metadata": {},
     "output_type": "display_data"
    }
   ],
   "source": [
    "p = np.linspace(-0.5, 0.5, 500)\n",
    "x_plot, y_plot = np.meshgrid(p, p)\n",
    "X_plot = np.stack((x_plot, y_plot), axis=2).reshape(-1, 2) # 500 * 500 * 2\n",
    "X_plot = torch.from_numpy(X_plot).float()\n",
    "output = net(X_plot)\n",
    "output = output.detach().numpy()\n",
    "output = output.reshape(x_plot.shape[0], x_plot.shape[1])\n",
    "\n",
    "plt.contour(x_plot, y_plot, output, [0.5],\n",
    "                  colors=('k',),\n",
    "                  linewidths=(3,))\n",
    "plot(X0, X1)\n"
   ]
  },
  {
   "cell_type": "markdown",
   "metadata": {},
   "source": [
    "### Implement your first multi-layer perceptron (MLP) for point cloud classification\n",
    "Now you should notice that your logistic regression model cannot classify the point cloud correctly, and this is as expected :)  \n",
    "Therefore, we now ask you to implement an MLP for the same binary classification task."
   ]
  },
  {
   "cell_type": "code",
   "execution_count": 35,
   "metadata": {},
   "outputs": [],
   "source": [
    "# These are the parameters to be used\n",
    "nInput = 2\n",
    "nOutput = 1\n",
    "nHidden = 16\n",
    "act_fn = nn.ReLU()\n",
    "\n",
    "class MLP(nn.Module):\n",
    "    def __init__(self, nInput, nOutput, nHidden, act_fn):\n",
    "        super().__init__()\n",
    "\n",
    "        # Define the network layers in order.\n",
    "        # Input is 2D (nInput).\n",
    "        # Output is a single value (nOutput).\n",
    "        # Multiple linear layers each followed by a ReLU non-linearity (apart from the last).\n",
    "        #########################################################################\n",
    "        # TODO: add a two-layer MLP, inside the `nn.Sequential` call.\n",
    "        # Input is 2D.\n",
    "        # Output is a single value.\n",
    "\n",
    "        # Hint: unlike logistic regression where you need only one nn.Linear layer, \n",
    "        # here you will have two nn.Linear layers. After the first layer, we \n",
    "        # apply a ReLU activation function. The output is then passed to another \n",
    "        # linear layer. Note that you should use `nHidden` below as the hidden dimension \n",
    "        # of your linear layers.\n",
    "        #########################################################################\n",
    "        self.model = nn.Sequential(nn.Linear(nInput, nHidden), \n",
    "                                   act_fn,\n",
    "                                   nn.Linear(nHidden, nOutput))\n",
    "        \n",
    "    def forward(self, batch):\n",
    "        # Process batch using the defined model.\n",
    "        x = self.model(batch)\n",
    "        # Final sigmoid activation to obtain a probability.\n",
    "        return torch.sigmoid(x)\n"
   ]
  },
  {
   "cell_type": "markdown",
   "metadata": {},
   "source": [
    "Run below again!"
   ]
  },
  {
   "cell_type": "code",
   "execution_count": 36,
   "metadata": {},
   "outputs": [
    {
     "name": "stdout",
     "output_type": "stream",
     "text": [
      "[Epoch 01] Loss: 7.0269\n",
      "[Epoch 02] Loss: 4.4453\n",
      "[Epoch 03] Loss: 4.1708\n",
      "[Epoch 04] Loss: 3.6501\n",
      "[Epoch 05] Loss: 3.8952\n",
      "[Epoch 06] Loss: 4.0025\n",
      "[Epoch 07] Loss: 3.8788\n",
      "[Epoch 08] Loss: 3.4764\n",
      "[Epoch 09] Loss: 3.1916\n",
      "[Epoch 10] Loss: 3.3649\n",
      "[Epoch 11] Loss: 2.9758\n",
      "[Epoch 12] Loss: 2.8369\n",
      "[Epoch 13] Loss: 2.7503\n",
      "[Epoch 14] Loss: 2.4712\n",
      "[Epoch 15] Loss: 2.2279\n",
      "[Epoch 16] Loss: 2.1168\n",
      "[Epoch 17] Loss: 1.9779\n",
      "[Epoch 18] Loss: 1.6183\n",
      "[Epoch 19] Loss: 2.0270\n",
      "[Epoch 20] Loss: 1.2946\n",
      "[Epoch 21] Loss: 1.3456\n",
      "[Epoch 22] Loss: 1.0671\n",
      "[Epoch 23] Loss: 1.1841\n",
      "[Epoch 24] Loss: 1.2316\n",
      "[Epoch 25] Loss: 2.8874\n",
      "[Epoch 26] Loss: 1.0102\n",
      "[Epoch 27] Loss: 0.8481\n",
      "[Epoch 28] Loss: 0.6804\n",
      "[Epoch 29] Loss: 0.9090\n",
      "[Epoch 30] Loss: 0.8031\n",
      "[Epoch 31] Loss: 0.8396\n",
      "[Epoch 32] Loss: 0.7844\n",
      "[Epoch 33] Loss: 0.5006\n",
      "[Epoch 34] Loss: 0.5255\n",
      "[Epoch 35] Loss: 0.4986\n",
      "[Epoch 36] Loss: 0.4191\n",
      "[Epoch 37] Loss: 0.4814\n",
      "[Epoch 38] Loss: 0.4007\n",
      "[Epoch 39] Loss: 0.4615\n",
      "[Epoch 40] Loss: 0.4147\n",
      "[Epoch 41] Loss: 0.3578\n",
      "[Epoch 42] Loss: 0.3636\n",
      "[Epoch 43] Loss: 0.3990\n",
      "[Epoch 44] Loss: 0.4314\n",
      "[Epoch 45] Loss: 0.4332\n",
      "[Epoch 46] Loss: 0.4573\n",
      "[Epoch 47] Loss: 0.5414\n",
      "[Epoch 48] Loss: 0.3636\n",
      "[Epoch 49] Loss: 0.3046\n",
      "[Epoch 50] Loss: 0.2742\n",
      "[Epoch 51] Loss: 0.2895\n",
      "[Epoch 52] Loss: 0.2873\n",
      "[Epoch 53] Loss: 0.2657\n",
      "[Epoch 54] Loss: 0.3223\n",
      "[Epoch 55] Loss: 0.2559\n",
      "[Epoch 56] Loss: 0.2590\n",
      "[Epoch 57] Loss: 0.2950\n",
      "[Epoch 58] Loss: 0.3382\n",
      "[Epoch 59] Loss: 0.4566\n",
      "[Epoch 60] Loss: 0.2176\n",
      "[Epoch 61] Loss: 0.2479\n",
      "[Epoch 62] Loss: 0.2620\n",
      "[Epoch 63] Loss: 0.2826\n",
      "[Epoch 64] Loss: 0.1859\n",
      "[Epoch 65] Loss: 0.1638\n",
      "[Epoch 66] Loss: 0.1839\n",
      "[Epoch 67] Loss: 0.2889\n",
      "[Epoch 68] Loss: 0.3174\n",
      "[Epoch 69] Loss: 0.3637\n",
      "[Epoch 70] Loss: 0.3157\n",
      "[Epoch 71] Loss: 0.3183\n",
      "[Epoch 72] Loss: 0.2921\n",
      "[Epoch 73] Loss: 0.5044\n",
      "[Epoch 74] Loss: 0.4862\n",
      "[Epoch 75] Loss: 0.4772\n",
      "[Epoch 76] Loss: 2.9463\n",
      "[Epoch 77] Loss: 2.5857\n",
      "[Epoch 78] Loss: 0.6796\n",
      "[Epoch 79] Loss: 1.0802\n",
      "[Epoch 80] Loss: 2.8127\n",
      "[Epoch 81] Loss: 1.4320\n",
      "[Epoch 82] Loss: 0.7688\n",
      "[Epoch 83] Loss: 0.3470\n",
      "[Epoch 84] Loss: 0.2021\n",
      "[Epoch 85] Loss: 0.1900\n",
      "[Epoch 86] Loss: 0.1701\n",
      "[Epoch 87] Loss: 0.1506\n",
      "[Epoch 88] Loss: 0.1545\n",
      "[Epoch 89] Loss: 0.1575\n",
      "[Epoch 90] Loss: 0.1431\n",
      "[Epoch 91] Loss: 0.1589\n",
      "[Epoch 92] Loss: 0.1190\n",
      "[Epoch 93] Loss: 0.1433\n",
      "[Epoch 94] Loss: 0.1293\n",
      "[Epoch 95] Loss: 0.1303\n",
      "[Epoch 96] Loss: 0.1606\n",
      "[Epoch 97] Loss: 0.1097\n",
      "[Epoch 98] Loss: 0.1295\n",
      "[Epoch 99] Loss: 0.1241\n",
      "[Epoch 100] Loss: 0.1354\n",
      "[Epoch 101] Loss: 0.1146\n",
      "[Epoch 102] Loss: 0.1092\n",
      "[Epoch 103] Loss: 0.1312\n",
      "[Epoch 104] Loss: 0.1377\n",
      "[Epoch 105] Loss: 0.0927\n",
      "[Epoch 106] Loss: 0.1166\n",
      "[Epoch 107] Loss: 0.1465\n",
      "[Epoch 108] Loss: 0.0978\n",
      "[Epoch 109] Loss: 0.1180\n",
      "[Epoch 110] Loss: 0.1215\n",
      "[Epoch 111] Loss: 0.0756\n",
      "[Epoch 112] Loss: 0.0923\n",
      "[Epoch 113] Loss: 0.0907\n",
      "[Epoch 114] Loss: 0.0990\n",
      "[Epoch 115] Loss: 0.0748\n",
      "[Epoch 116] Loss: 0.0899\n",
      "[Epoch 117] Loss: 0.0700\n",
      "[Epoch 118] Loss: 0.0775\n",
      "[Epoch 119] Loss: 0.0848\n",
      "[Epoch 120] Loss: 0.0839\n",
      "[Epoch 121] Loss: 0.0703\n",
      "[Epoch 122] Loss: 0.0656\n",
      "[Epoch 123] Loss: 0.0784\n",
      "[Epoch 124] Loss: 0.0972\n",
      "[Epoch 125] Loss: 0.0764\n",
      "[Epoch 126] Loss: 0.1062\n",
      "[Epoch 127] Loss: 0.1136\n",
      "[Epoch 128] Loss: 0.0542\n",
      "[Epoch 129] Loss: 0.0791\n",
      "[Epoch 130] Loss: 0.0937\n",
      "[Epoch 131] Loss: 0.0517\n",
      "[Epoch 132] Loss: 0.0842\n",
      "[Epoch 133] Loss: 0.0563\n",
      "[Epoch 134] Loss: 0.0603\n",
      "[Epoch 135] Loss: 0.0793\n",
      "[Epoch 136] Loss: 0.0492\n",
      "[Epoch 137] Loss: 0.0630\n",
      "[Epoch 138] Loss: 0.0645\n",
      "[Epoch 139] Loss: 0.0440\n",
      "[Epoch 140] Loss: 0.0461\n",
      "[Epoch 141] Loss: 0.0408\n",
      "[Epoch 142] Loss: 0.0595\n",
      "[Epoch 143] Loss: 0.0318\n",
      "[Epoch 144] Loss: 0.0634\n",
      "[Epoch 145] Loss: 0.0450\n",
      "[Epoch 146] Loss: 0.0370\n",
      "[Epoch 147] Loss: 0.0475\n",
      "[Epoch 148] Loss: 0.0561\n",
      "[Epoch 149] Loss: 0.0297\n",
      "[Epoch 150] Loss: 0.0432\n",
      "[Epoch 151] Loss: 0.0551\n",
      "[Epoch 152] Loss: 0.0470\n",
      "[Epoch 153] Loss: 0.0371\n",
      "[Epoch 154] Loss: 0.0291\n",
      "[Epoch 155] Loss: 0.0282\n",
      "[Epoch 156] Loss: 0.0275\n",
      "[Epoch 157] Loss: 0.0317\n",
      "[Epoch 158] Loss: 0.0339\n",
      "[Epoch 159] Loss: 0.0249\n",
      "[Epoch 160] Loss: 0.0312\n",
      "[Epoch 161] Loss: 0.0363\n",
      "[Epoch 162] Loss: 0.0261\n",
      "[Epoch 163] Loss: 0.0259\n",
      "[Epoch 164] Loss: 0.0254\n",
      "[Epoch 165] Loss: 0.0270\n",
      "[Epoch 166] Loss: 0.0384\n",
      "[Epoch 167] Loss: 0.0229\n",
      "[Epoch 168] Loss: 0.0297\n",
      "[Epoch 169] Loss: 0.0235\n",
      "[Epoch 170] Loss: 0.0232\n",
      "[Epoch 171] Loss: 0.0237\n",
      "[Epoch 172] Loss: 0.0218\n",
      "[Epoch 173] Loss: 0.0203\n",
      "[Epoch 174] Loss: 0.0189\n",
      "[Epoch 175] Loss: 0.0194\n",
      "[Epoch 176] Loss: 0.0176\n",
      "[Epoch 177] Loss: 0.0176\n",
      "[Epoch 178] Loss: 0.0248\n",
      "[Epoch 179] Loss: 0.0272\n",
      "[Epoch 180] Loss: 0.0163\n",
      "[Epoch 181] Loss: 0.0316\n",
      "[Epoch 182] Loss: 0.0164\n",
      "[Epoch 183] Loss: 0.0179\n",
      "[Epoch 184] Loss: 0.0168\n",
      "[Epoch 185] Loss: 0.0150\n",
      "[Epoch 186] Loss: 0.0177\n",
      "[Epoch 187] Loss: 0.0138\n",
      "[Epoch 188] Loss: 0.0185\n",
      "[Epoch 189] Loss: 0.0132\n",
      "[Epoch 190] Loss: 0.0183\n",
      "[Epoch 191] Loss: 0.0155\n",
      "[Epoch 192] Loss: 0.0163\n",
      "[Epoch 193] Loss: 0.0139\n",
      "[Epoch 194] Loss: 0.0136\n",
      "[Epoch 195] Loss: 0.0132\n",
      "[Epoch 196] Loss: 0.0144\n",
      "[Epoch 197] Loss: 0.0129\n",
      "[Epoch 198] Loss: 0.0122\n",
      "[Epoch 199] Loss: 0.0129\n",
      "[Epoch 200] Loss: 0.0117\n"
     ]
    }
   ],
   "source": [
    "NUM_EPOCHS = 200\n",
    "\n",
    "# create the network.\n",
    "net = MLP(nInput, nOutput, nHidden, act_fn)\n",
    "\n",
    "# create the optimizer.\n",
    "optimizer = Adam(net.parameters(), lr=0.1)\n",
    "\n",
    "best_accuracy = 0\n",
    "for epoch_idx in range(NUM_EPOCHS):\n",
    "    loss = train(net, optimizer, train_dataloader, epoch_idx)\n",
    "    print('[Epoch %02d] Loss: %.4f' % (epoch_idx + 1, loss))"
   ]
  },
  {
   "cell_type": "markdown",
   "metadata": {},
   "source": [
    "Again plot your result. You should see that the decision boundary can clearly separate the point clouds.\n"
   ]
  },
  {
   "cell_type": "code",
   "execution_count": 37,
   "metadata": {},
   "outputs": [
    {
     "data": {
      "image/png": "[encoded data removed]",
      "text/plain": [
       "<Figure size 432x288 with 1 Axes>"
      ]
     },
     "metadata": {
      "needs_background": "light"
     },
     "output_type": "display_data"
    },
    {
     "data": {
      "text/plain": [
       "<Figure size 432x288 with 0 Axes>"
      ]
     },
     "metadata": {},
     "output_type": "display_data"
    }
   ],
   "source": [
    "p = np.linspace(-0.5, 0.5, 500)\n",
    "x_plot, y_plot = np.meshgrid(p, p)\n",
    "X_plot = np.stack((x_plot, y_plot), axis=2).reshape(-1, 2)\n",
    "X_plot = torch.from_numpy(X_plot).float()\n",
    "output = net(X_plot)\n",
    "output = output.detach().numpy()\n",
    "output = output.reshape(x_plot.shape[0], x_plot.shape[1])\n",
    "\n",
    "plt.contour(x_plot, y_plot, output, [0.5],\n",
    "                  colors=('k',),\n",
    "                  linewidths=(3,))\n",
    "plot(X0, X1)"
   ]
  },
  {
   "cell_type": "markdown",
   "metadata": {},
   "source": [
    "When you are done, move forward to `image_classification.ipynb`."
   ]
  },
  {
   "cell_type": "markdown",
   "metadata": {},
   "source": []
  }
 ],
 "metadata": {
  "kernelspec": {
   "display_name": "Python 3.9.7 ('base')",
   "language": "python",
   "name": "python3"
  },
  "language_info": {
   "codemirror_mode": {
    "name": "ipython",
    "version": 3
   },
   "file_extension": ".py",
   "mimetype": "text/x-python",
   "name": "python",
   "nbconvert_exporter": "python",
   "pygments_lexer": "ipython3",
   "version": "3.9.7"
  },
  "vscode": {
   "interpreter": {
    "hash": "7c3de026aa0deba29f587c3b3fdc98c8d52b1123a61c41868ecd1d17bda52b85"
   }
  }
 },
 "nbformat": 4,
 "nbformat_minor": 4
}
